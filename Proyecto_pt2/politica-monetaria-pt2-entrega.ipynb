{
 "cells": [
  {
   "cell_type": "code",
   "execution_count": 1,
   "metadata": {
    "colab": {
     "base_uri": "https://localhost:8080/",
     "height": 515
    },
    "colab_type": "code",
    "executionInfo": {
     "elapsed": 9580,
     "status": "ok",
     "timestamp": 1576610683426,
     "user": {
      "displayName": "raul abraham Nieto Pacheco",
      "photoUrl": "",
      "userId": "06171730266864656462"
     },
     "user_tz": 360
    },
    "id": "wRtdWzyDkWjg",
    "outputId": "91143a48-4ffe-4722-a9ff-ff15eed355e9"
   },
   "outputs": [],
   "source": [
    "#!pip install requests_html\n",
    "#!pip install unidecode\n",
    "#!pip install tika"
   ]
  },
  {
   "cell_type": "markdown",
   "metadata": {
    "colab_type": "text",
    "id": "Ms0tcQupHeyR"
   },
   "source": [
    "# 0.-Importando las bibliotecas necesarias\n",
    "\n",
    "**Para le lectura de PDF's utilizamos la biblioteca tika aquí una referencia de ella.**\n",
    "\n",
    "https://cbrownley.wordpress.com/2016/06/26/parsing-pdfs-in-python-with-tika/"
   ]
  },
  {
   "cell_type": "code",
   "execution_count": 2,
   "metadata": {
    "colab": {},
    "colab_type": "code",
    "id": "vO5_G1aDHNCS"
   },
   "outputs": [],
   "source": [
    "import pickle\n",
    "import re\n",
    "import os\n",
    "import pandas as pd\n",
    "import matplotlib.pyplot as plt\n",
    "from requests_html import HTMLSession\n",
    "from collections import defaultdict,Counter\n",
    "from unidecode import unidecode\n",
    "from datetime import datetime\n",
    "from tika import parser\n",
    "import nltk\n",
    "from nltk import corpus\n",
    "from nltk.tokenize import RegexpTokenizer\n",
    "import numpy as np\n",
    "from sklearn.model_selection import train_test_split\n",
    "from sklearn.metrics import confusion_matrix,classification_report,accuracy_score\n",
    "from ipywidgets import interact, interactive, fixed, interact_manual\n",
    "from IPython.display import clear_output"
   ]
  },
  {
   "cell_type": "markdown",
   "metadata": {
    "colab_type": "text",
    "id": "U6EnB2h_kWjp"
   },
   "source": [
    "# 1.- Cargando Datos..\n",
    "\n",
    "**Abrimos el pickle de la parte 1**"
   ]
  },
  {
   "cell_type": "code",
   "execution_count": 3,
   "metadata": {
    "colab": {
     "base_uri": "https://localhost:8080/",
     "height": 52
    },
    "colab_type": "code",
    "executionInfo": {
     "elapsed": 17502,
     "status": "ok",
     "timestamp": 1576610691391,
     "user": {
      "displayName": "raul abraham Nieto Pacheco",
      "photoUrl": "",
      "userId": "06171730266864656462"
     },
     "user_tz": 360
    },
    "id": "TJGSijyPkWjq",
    "outputId": "b47c1ca4-6d70-468e-f6b7-be99b83b118b"
   },
   "outputs": [],
   "source": [
    "with open(\"abraham_nieto.pkl\",\"rb\") as f:\n",
    "     sal=pickle.load(f)\n",
    "     f.close()"
   ]
  },
  {
   "cell_type": "code",
   "execution_count": 4,
   "metadata": {
    "colab": {
     "base_uri": "https://localhost:8080/",
     "height": 230
    },
    "colab_type": "code",
    "executionInfo": {
     "elapsed": 17496,
     "status": "ok",
     "timestamp": 1576610691392,
     "user": {
      "displayName": "raul abraham Nieto Pacheco",
      "photoUrl": "",
      "userId": "06171730266864656462"
     },
     "user_tz": 360
    },
    "id": "rWhA6t_DkWjs",
    "outputId": "27bf644c-6452-46eb-f42f-0e388eef74be"
   },
   "outputs": [
    {
     "data": {
      "text/html": [
       "<div>\n",
       "<style scoped>\n",
       "    .dataframe tbody tr th:only-of-type {\n",
       "        vertical-align: middle;\n",
       "    }\n",
       "\n",
       "    .dataframe tbody tr th {\n",
       "        vertical-align: top;\n",
       "    }\n",
       "\n",
       "    .dataframe thead th {\n",
       "        text-align: right;\n",
       "    }\n",
       "</style>\n",
       "<table border=\"1\" class=\"dataframe\">\n",
       "  <thead>\n",
       "    <tr style=\"text-align: right;\">\n",
       "      <th></th>\n",
       "      <th>text</th>\n",
       "      <th>url</th>\n",
       "      <th>category</th>\n",
       "    </tr>\n",
       "    <tr>\n",
       "      <th>date</th>\n",
       "      <th></th>\n",
       "      <th></th>\n",
       "      <th></th>\n",
       "    </tr>\n",
       "  </thead>\n",
       "  <tbody>\n",
       "    <tr>\n",
       "      <td>2008-02-15</td>\n",
       "      <td>El objetivo para la Tasa de Inter�s Interbanca...</td>\n",
       "      <td>https://www.banxico.org.mx/publicaciones-y-pre...</td>\n",
       "      <td>mantiene</td>\n",
       "    </tr>\n",
       "    <tr>\n",
       "      <td>2008-03-14</td>\n",
       "      <td>El objetivo para la Tasa de Inter�s Interbanca...</td>\n",
       "      <td>https://www.banxico.org.mx/publicaciones-y-pre...</td>\n",
       "      <td>mantiene</td>\n",
       "    </tr>\n",
       "    <tr>\n",
       "      <td>2008-04-18</td>\n",
       "      <td>El objetivo para la Tasa de Inter�s Interbanca...</td>\n",
       "      <td>https://www.banxico.org.mx/publicaciones-y-pre...</td>\n",
       "      <td>mantiene</td>\n",
       "    </tr>\n",
       "    <tr>\n",
       "      <td>2008-05-16</td>\n",
       "      <td>El objetivo para la Tasa de Inter�s Interbanca...</td>\n",
       "      <td>https://www.banxico.org.mx/publicaciones-y-pre...</td>\n",
       "      <td>mantiene</td>\n",
       "    </tr>\n",
       "    <tr>\n",
       "      <td>2008-06-20</td>\n",
       "      <td>El objetivo para la Tasa de Inter�s Interbanca...</td>\n",
       "      <td>https://www.banxico.org.mx/publicaciones-y-pre...</td>\n",
       "      <td>incrementa</td>\n",
       "    </tr>\n",
       "  </tbody>\n",
       "</table>\n",
       "</div>"
      ],
      "text/plain": [
       "                                                         text  \\\n",
       "date                                                            \n",
       "2008-02-15  El objetivo para la Tasa de Inter�s Interbanca...   \n",
       "2008-03-14  El objetivo para la Tasa de Inter�s Interbanca...   \n",
       "2008-04-18  El objetivo para la Tasa de Inter�s Interbanca...   \n",
       "2008-05-16  El objetivo para la Tasa de Inter�s Interbanca...   \n",
       "2008-06-20  El objetivo para la Tasa de Inter�s Interbanca...   \n",
       "\n",
       "                                                          url    category  \n",
       "date                                                                       \n",
       "2008-02-15  https://www.banxico.org.mx/publicaciones-y-pre...    mantiene  \n",
       "2008-03-14  https://www.banxico.org.mx/publicaciones-y-pre...    mantiene  \n",
       "2008-04-18  https://www.banxico.org.mx/publicaciones-y-pre...    mantiene  \n",
       "2008-05-16  https://www.banxico.org.mx/publicaciones-y-pre...    mantiene  \n",
       "2008-06-20  https://www.banxico.org.mx/publicaciones-y-pre...  incrementa  "
      ]
     },
     "execution_count": 4,
     "metadata": {},
     "output_type": "execute_result"
    }
   ],
   "source": [
    "df=sal[\"data\"]\n",
    "df.head()"
   ]
  },
  {
   "cell_type": "markdown",
   "metadata": {
    "colab_type": "text",
    "id": "_yUr-vyRuFrE"
   },
   "source": [
    "# 2.-Armando la extracción de un documento con un ejemplo:\n",
    "\n",
    "**Usamos parser que es una función de la librería tika, por ejemplo leemos el documento del renglón 5 de nuestro dataframe.**"
   ]
  },
  {
   "cell_type": "code",
   "execution_count": 5,
   "metadata": {
    "colab": {
     "base_uri": "https://localhost:8080/",
     "height": 0
    },
    "colab_type": "code",
    "executionInfo": {
     "elapsed": 34589,
     "status": "ok",
     "timestamp": 1576610708494,
     "user": {
      "displayName": "raul abraham Nieto Pacheco",
      "photoUrl": "",
      "userId": "06171730266864656462"
     },
     "user_tz": 360
    },
    "id": "2lCYJjy-kWjx",
    "outputId": "06a57bfd-73e9-446b-e7d5-d8e564c2d435"
   },
   "outputs": [
    {
     "data": {
      "text/plain": [
       "'\\n\\n\\n\\n\\n\\n\\n\\n\\n\\n\\n\\n\\n\\n\\n\\n\\n\\n\\n\\n\\n\\n\\n\\n\\n\\n\\n\\n\\n\\n\\n\\n\\n\\n\\n\\n\\n\\n\\n\\n\\n\\nMicrosoft Word - BOLETIN 20080620-JUNIO DEFINITIVO.DOC\\n\\n\\n\\xa0\\n20 de junio de 2008 \\n\\nComunicado de Prensa \\n \\n\\nAnuncio de Política Monetaria  \\n\\nLa Junta de Gobierno del Banco de México ha decidido incrementar a 7.75 por ciento el objetivo \\npara la Tasa de Interés Interbancaria a 1 día. \\n \\nLa economía mundial continúa desacelerándose y la actividad económica en Estados Unidos se \\nmantiene débil. A este respecto, se vislumbra un periodo prolongado de ajuste en ese país, conforme se \\nreconstituya el ahorro de los hogares. Al mismo tiempo, se han intensificado las presiones \\ninflacionarias en el mundo, debido a los fuertes incrementos en los precios de los alimentos, de los \\nenergéticos y de otras materias primas.  Prácticamente todos los Bancos Centrales han revisado al alza \\nsus previsiones sobre la inflación.  Algunos, en los principales países desarrollados, han expresado su \\ncreciente preocupación por el deterioro inflacionario; otros, en numerosos países de economías \\nemergentes, han endurecido su política monetaria. \\n \\nDurante el primer trimestre, la actividad económica en México no resintió en forma significativa el \\ndebilitamiento de la economía de Estados Unidos.  En dicho periodo, el PIB creció 2.6 por ciento en \\ntérminos reales (equivalente a 3.8 por ciento con cifras ajustadas por el efecto estacional de la Semana \\nSanta). Se estima una evolución similar para el segundo trimestre, aunque, hacia adelante, permanecen \\nlos riesgos a la baja de la actividad económica. \\n \\nLa coyuntura actual para la política monetaria de México es particularmente compleja. La dinámica \\nreciente de la inflación es preocupante, porque responde a la acentuación de las mismas presiones \\nexternas que se han venido comentando en el pasado. Por ello, al igual que la mayoría de los Bancos \\nCentrales, el Banco de México ha tenido que revisar al alza sus proyecciones sobre la inflación. \\nAsimismo, es previsible que se corrijan gradualmente algunas disparidades que existen entre ciertos \\nprecios internos y sus referentes mundiales. México no muestra presiones inflacionarias por el lado de \\nla demanda.  Incluso, un eventual debilitamiento del gasto agregado podría constituir un factor que \\natenuaría las presiones alcistas. Las expectativas de inflación a mediano plazo continúan bien ancladas, \\ny la contaminación de los precios no relacionados con el alza de las materias primas ha sido limitada.  \\nSin embargo, el balance de riesgos sobre la inflación ha empeorado. La trayectoria de la inflación para \\nel resto del año y principios de 2009 puede resultar algo mayor que la prevista en el Informe sobre la \\nInflación más reciente. \\n \\nCon base en las consideraciones anteriores, la Junta de Gobierno ha decidido aumentar a 7.75  por \\nciento el objetivo para la Tasa de Interés Interbancaria a 1 día, con el propósito de reforzar las \\nexpectativas de inflación a mediano plazo.  El Banco de México continuará vigilando estrechamente el \\nbalance de riesgos, con miras al cumplimiento de la meta del 3 por ciento en los tiempos previstos. \\n \\n\\n\\n'"
      ]
     },
     "execution_count": 5,
     "metadata": {},
     "output_type": "execute_result"
    }
   ],
   "source": [
    "urll=df[\"url\"][4]#Leemos el documento del renglón 5\n",
    "raw = parser.from_file(urll)#usando parser guardamos el objeto del documento\n",
    "clear_output()\n",
    "raw['content']#vemos el pdf convertido en un texto."
   ]
  },
  {
   "cell_type": "markdown",
   "metadata": {
    "colab_type": "text",
    "id": "MQKBPYprUZhw"
   },
   "source": [
    "**Identificamos la palabra \"Anuncio de Política Monetaria\" como el patrón a encontrar ya que aparece en todos los documentos, por otro lado vamos a tomar este patrón como el punto de partida para leer cada documento**"
   ]
  },
  {
   "cell_type": "code",
   "execution_count": 6,
   "metadata": {
    "colab": {
     "base_uri": "https://localhost:8080/",
     "height": 0
    },
    "colab_type": "code",
    "executionInfo": {
     "elapsed": 34579,
     "status": "ok",
     "timestamp": 1576610708495,
     "user": {
      "displayName": "raul abraham Nieto Pacheco",
      "photoUrl": "",
      "userId": "06171730266864656462"
     },
     "user_tz": 360
    },
    "id": "kc4oT0dZkWjz",
    "outputId": "8d1391bd-2a50-4ad6-945a-bc854a656d75"
   },
   "outputs": [
    {
     "data": {
      "text/plain": [
       "'  \\n\\nLa Junta de Gobierno del Banco de México ha decidido incrementar a 7.75 por ciento el objetivo \\npara la Tasa de Interés'"
      ]
     },
     "execution_count": 6,
     "metadata": {},
     "output_type": "execute_result"
    }
   ],
   "source": [
    "pat=\"Anuncio de Política Monetaria\"#este pat lo usaremos para todos los documentos...\n",
    "corp=raw[\"content\"]\n",
    "init_p=corp.find(pat)\n",
    "corp=corp[init_p+len(pat):]#Comenzar a leer el texto después del patrón.\n",
    "corp[0:123]"
   ]
  },
  {
   "cell_type": "markdown",
   "metadata": {
    "colab_type": "text",
    "id": "KH04GM9skWj2"
   },
   "source": [
    "# 3.-Limpieza y extracción de texto\n",
    "\n",
    "**Comenzamos creando una finción para quitar todos los caracteres que no sean palabras y los acentos**"
   ]
  },
  {
   "cell_type": "code",
   "execution_count": 7,
   "metadata": {
    "colab": {},
    "colab_type": "code",
    "id": "va33-lY1kWj2"
   },
   "outputs": [],
   "source": [
    "def clean_d(doc):\n",
    "    \"\"\"Funcion que quita del texto caracteres+espacios que no son palabras y acentos\n",
    "    Entrada:\n",
    "          doc.-texto del docuemnto a limpiar\n",
    "    Salida:\n",
    "          mismo texto con solo alfanuméricos.\n",
    "    \"\"\"\n",
    "    return unidecode(re.sub(\"[^\\w ]\",\"\",doc.lower()))"
   ]
  },
  {
   "cell_type": "code",
   "execution_count": 8,
   "metadata": {
    "colab": {
     "base_uri": "https://localhost:8080/",
     "height": 0
    },
    "colab_type": "code",
    "executionInfo": {
     "elapsed": 34566,
     "status": "ok",
     "timestamp": 1576610708496,
     "user": {
      "displayName": "raul abraham Nieto Pacheco",
      "photoUrl": "",
      "userId": "06171730266864656462"
     },
     "user_tz": 360
    },
    "id": "VVYJE2CJ7frX",
    "outputId": "309bc2bc-574f-46d9-ccf4-972cf60df980"
   },
   "outputs": [
    {
     "name": "stderr",
     "output_type": "stream",
     "text": [
      "[nltk_data] Downloading package stopwords to\n",
      "[nltk_data]     /home/abraham/nltk_data...\n",
      "[nltk_data]   Package stopwords is already up-to-date!\n"
     ]
    },
    {
     "data": {
      "text/plain": [
       "True"
      ]
     },
     "execution_count": 8,
     "metadata": {},
     "output_type": "execute_result"
    }
   ],
   "source": [
    "nltk.download('stopwords')"
   ]
  },
  {
   "cell_type": "markdown",
   "metadata": {
    "colab_type": "text",
    "id": "_ZBE2tlTWp6a"
   },
   "source": [
    "**Stopwords**\n",
    "\n",
    "**Hacemos la lista de stopwords que omitiremos dentro de nuestro ejercicio, además de las stopwords comunes como artículos, etc. añadimos ciertas palabras que pueden obviar el modelo o que aparecen indistintamente sin importar la clase**"
   ]
  },
  {
   "cell_type": "code",
   "execution_count": 9,
   "metadata": {
    "colab": {},
    "colab_type": "code",
    "id": "2MeKP81DkWj5"
   },
   "outputs": [],
   "source": [
    "#agregamos unalista de palabras [mantener,dsmunuir,aumentar] para no redundar el modelo\n",
    "#el texto seimpre comienza con:\n",
    "#La la junta de gobierno del banco de mexico ha decidido y tambien tiene \"tasa de interes interbancaria a\" y la palabra objetivo\n",
    "#estas palabras tambien las consideraremos stop words y las agregaremos.\n",
    "stopwords=(corpus.stopwords.words(\"spanish\")+[\"mantener\",\"disminuir\",\"incrementar\"]+\n",
    "           \"la junta de gobierno del banco de mexico ha decidido incrementar a\".split()+\n",
    "           \"tasa de interes interbancaria a\".split())"
   ]
  },
  {
   "cell_type": "markdown",
   "metadata": {
    "colab_type": "text",
    "id": "w1z115mqYk4q"
   },
   "source": [
    "**Convirtiendo Texto en dataframe con un ejemplo...**"
   ]
  },
  {
   "cell_type": "code",
   "execution_count": 10,
   "metadata": {
    "colab": {
     "base_uri": "https://localhost:8080/",
     "height": 0
    },
    "colab_type": "code",
    "executionInfo": {
     "elapsed": 34546,
     "status": "ok",
     "timestamp": 1576610708497,
     "user": {
      "displayName": "raul abraham Nieto Pacheco",
      "photoUrl": "",
      "userId": "06171730266864656462"
     },
     "user_tz": 360
    },
    "id": "cTVmwf_gkWj7",
    "outputId": "6a0ec03b-3be1-46e9-bca1-53c6a899ac2d"
   },
   "outputs": [
    {
     "data": {
      "text/html": [
       "<div>\n",
       "<style scoped>\n",
       "    .dataframe tbody tr th:only-of-type {\n",
       "        vertical-align: middle;\n",
       "    }\n",
       "\n",
       "    .dataframe tbody tr th {\n",
       "        vertical-align: top;\n",
       "    }\n",
       "\n",
       "    .dataframe thead th {\n",
       "        text-align: right;\n",
       "    }\n",
       "</style>\n",
       "<table border=\"1\" class=\"dataframe\">\n",
       "  <thead>\n",
       "    <tr style=\"text-align: right;\">\n",
       "      <th></th>\n",
       "      <th>incrementa</th>\n",
       "    </tr>\n",
       "  </thead>\n",
       "  <tbody>\n",
       "    <tr>\n",
       "      <td>ciento</td>\n",
       "      <td>5</td>\n",
       "    </tr>\n",
       "    <tr>\n",
       "      <td>objetivo</td>\n",
       "      <td>2</td>\n",
       "    </tr>\n",
       "    <tr>\n",
       "      <td>dia</td>\n",
       "      <td>2</td>\n",
       "    </tr>\n",
       "    <tr>\n",
       "      <td>economia</td>\n",
       "      <td>2</td>\n",
       "    </tr>\n",
       "    <tr>\n",
       "      <td>mundial</td>\n",
       "      <td>1</td>\n",
       "    </tr>\n",
       "  </tbody>\n",
       "</table>\n",
       "</div>"
      ],
      "text/plain": [
       "          incrementa\n",
       "ciento             5\n",
       "objetivo           2\n",
       "dia                2\n",
       "economia           2\n",
       "mundial            1"
      ]
     },
     "execution_count": 10,
     "metadata": {},
     "output_type": "execute_result"
    }
   ],
   "source": [
    "d1=re.sub(\"[\\d]\",\"\",clean_d(corp))#quitamos todos los numeros para solo trabajar con palabras\n",
    "palab=[word for word in d1.split() if word not in stopwords]\n",
    "d=dict(Counter(palab))\n",
    "df1=pd.DataFrame.from_dict(d,orient=\"index\",columns=[df[\"category\"][4]])\n",
    "df1.head()"
   ]
  },
  {
   "cell_type": "markdown",
   "metadata": {
    "colab_type": "text",
    "id": "oG-p6XbhkWkH"
   },
   "source": [
    "**Funcion para hacer DataFrame de palabras de un documento**"
   ]
  },
  {
   "cell_type": "code",
   "execution_count": 11,
   "metadata": {
    "colab": {},
    "colab_type": "code",
    "id": "HkRtY7V3kWkI"
   },
   "outputs": [],
   "source": [
    "def palabras(url,pat,name):\n",
    "    \"\"\"Funcion que lee un documento de una url y lo convierte en un dataframe con la frecuencia de cada palabra encontrada\n",
    "    Entrada:\n",
    "          url.-string de la liga donde encuentra el documento\n",
    "          pat.-la palabra que se va a buscar en el documento para tomarla como el comienzo del texto de interes\n",
    "          name.-nombre que le queremos poner  a la clumna del dataframe resultante\n",
    "    Salida:\n",
    "          df1.-pandas dataframe \n",
    "    \"\"\"\n",
    "    \n",
    "    raw = parser.from_file(url)#leemos el archivo de la url y guardamos\n",
    "    clear_output()#con esta instruccion limpiamos los mensajes de conexion...\n",
    "    corp=raw[\"content\"]#obtenemos el texto\n",
    "    init_p=corp.find(pat)#encontramos la frase para tomarla como reerencia del comienzo del texto\n",
    "    corp=corp[init_p+len(pat):]#depués partir del pat queremos leer nuestro documento\n",
    "    d1=re.sub(\"[\\d]\",\"\",clean_d(corp))#quitamos todos los numeros para solo trabajar conpalabras\n",
    "    palab=[word for word in d1.split() if word not in stopwords]#nos quedamos con la lista de palabras del doc quitando stopwords\n",
    "    d=dict(Counter(palab))#hacemos diccionario de las frecuencias dee palabras\n",
    "    df1=pd.DataFrame.from_dict(d,orient=\"index\",columns=[name])#convertimos el diccionario en datframe\n",
    "    return(df1)"
   ]
  },
  {
   "cell_type": "code",
   "execution_count": 12,
   "metadata": {
    "colab": {},
    "colab_type": "code",
    "id": "SvIdv4N2kWkL"
   },
   "outputs": [],
   "source": [
    "pat=\"Anuncio de Política Monetaria\""
   ]
  },
  {
   "cell_type": "markdown",
   "metadata": {
    "colab_type": "text",
    "id": "WpgxJZH_kWkU"
   },
   "source": [
    "# 4.-Data partition\n",
    "\n",
    "**usamos el 30 % de la base para prueba**"
   ]
  },
  {
   "cell_type": "code",
   "execution_count": 13,
   "metadata": {
    "colab": {},
    "colab_type": "code",
    "id": "MN3Pe6zzkWkV"
   },
   "outputs": [],
   "source": [
    "df_train,df_test=train_test_split(df,test_size=.3,random_state=345)"
   ]
  },
  {
   "cell_type": "markdown",
   "metadata": {
    "colab_type": "text",
    "id": "TaUihbborwHi"
   },
   "source": [
    "# 5.-Haciendo los Dataframes con las frecuencias de Palabras para cada Clase\n",
    "\n",
    "**Hacemos una función que toma todos los documentos de df_train que pertenecen a la clase $c \\in [mantiene,incrementa,disminuye]$ de tal modo que la función \"uneclas\" hace un dataframe con la suma de las frecuencias de cada palabra.**\n",
    "\n",
    "$$\n",
    "\\cup_{i=1}^{n_{c}}A_{c}^{i}\n",
    "$$\n",
    "\n",
    "$n_{c}$.- número de documentos de la clase $c$.\n",
    "\n",
    "$A_{c}^{i}$.- el $i-$ésimo documento de la clase $c$\n",
    "\n",
    "**Estas uniones se hacen con outer joins para añadir palabras nuevas que se van agregando al vocabulario.**\n",
    "\n",
    "**Nota: TODO se hace en el dataframe de entranamiento**\n"
   ]
  },
  {
   "cell_type": "code",
   "execution_count": 14,
   "metadata": {
    "colab": {},
    "colab_type": "code",
    "id": "aXSq21ttkWkX"
   },
   "outputs": [],
   "source": [
    "def uneclas(clase):\n",
    "    \"\"\"Funcion que busca todos los documentos dentro de df_train cuya categoria es la misma..\n",
    "    Entrada:\n",
    "          clase.-string que significa la categoría a buscar\n",
    "    Salida:\n",
    "          pandas dataframe con 1 columna que suma las frecuencias de cada palabra en cada documento.\n",
    "    \"\"\"\n",
    "    dff=df_train[df_train[\"category\"]==clase]#filtramos sólo por la ctegoría de interes\n",
    "    doc=palabras(dff[\"url\"][0],pat,\"0\")#usamos la función palabras para tener el dataframe de frecuencias del  1er documento\n",
    "    for i in range(1,len(dff)):\n",
    "        doc=doc.join(palabras(dff[\"url\"][i],pat,f\"{i}\"),how=\"outer\")#unimos todos los dataframes de frecuencias usado outer para agregar palabras nuevas en cada iteración\n",
    "    return(pd.DataFrame(doc.sum(axis=1),columns=[clase]))#al ser doc un pandas series lo convertimos en dataframe       "
   ]
  },
  {
   "cell_type": "markdown",
   "metadata": {
    "colab_type": "text",
    "id": "Q33Fyq4jAIY7"
   },
   "source": [
    "**Creando los dataframes de frecuencias de palabras de cada clase:**"
   ]
  },
  {
   "cell_type": "code",
   "execution_count": 15,
   "metadata": {
    "colab": {
     "base_uri": "https://localhost:8080/",
     "height": 1000
    },
    "colab_type": "code",
    "executionInfo": {
     "elapsed": 72286,
     "status": "ok",
     "timestamp": 1576610746303,
     "user": {
      "displayName": "raul abraham Nieto Pacheco",
      "photoUrl": "",
      "userId": "06171730266864656462"
     },
     "user_tz": 360
    },
    "id": "5PQdQFLukWkd",
    "outputId": "742804cd-ed90-4715-9b57-e96e408f06cc"
   },
   "outputs": [
    {
     "name": "stdout",
     "output_type": "stream",
     "text": [
      "CPU times: user 3 s, sys: 188 ms, total: 3.19 s\n",
      "Wall time: 9.82 s\n"
     ]
    }
   ],
   "source": [
    "%%time\n",
    "##tiempo de ejecución 1 min +-\n",
    "mantiene=uneclas(\"mantiene\")\n",
    "incrementa=uneclas(\"incrementa\")\n",
    "disminuye=uneclas(\"disminuye\")"
   ]
  },
  {
   "cell_type": "code",
   "execution_count": 16,
   "metadata": {
    "colab": {
     "base_uri": "https://localhost:8080/",
     "height": 200
    },
    "colab_type": "code",
    "executionInfo": {
     "elapsed": 72274,
     "status": "ok",
     "timestamp": 1576610746304,
     "user": {
      "displayName": "raul abraham Nieto Pacheco",
      "photoUrl": "",
      "userId": "06171730266864656462"
     },
     "user_tz": 360
    },
    "id": "RCxDrK1BkWki",
    "outputId": "13833f5c-ef84-4598-f2d4-46c9aa27e109"
   },
   "outputs": [
    {
     "data": {
      "text/html": [
       "<div>\n",
       "<style scoped>\n",
       "    .dataframe tbody tr th:only-of-type {\n",
       "        vertical-align: middle;\n",
       "    }\n",
       "\n",
       "    .dataframe tbody tr th {\n",
       "        vertical-align: top;\n",
       "    }\n",
       "\n",
       "    .dataframe thead th {\n",
       "        text-align: right;\n",
       "    }\n",
       "</style>\n",
       "<table border=\"1\" class=\"dataframe\">\n",
       "  <thead>\n",
       "    <tr style=\"text-align: right;\">\n",
       "      <th></th>\n",
       "      <th>mantiene</th>\n",
       "    </tr>\n",
       "  </thead>\n",
       "  <tbody>\n",
       "    <tr>\n",
       "      <td>abasto</td>\n",
       "      <td>2.0</td>\n",
       "    </tr>\n",
       "    <tr>\n",
       "      <td>abatir</td>\n",
       "      <td>3.0</td>\n",
       "    </tr>\n",
       "    <tr>\n",
       "      <td>abierto</td>\n",
       "      <td>2.0</td>\n",
       "    </tr>\n",
       "    <tr>\n",
       "      <td>abonado</td>\n",
       "      <td>1.0</td>\n",
       "    </tr>\n",
       "    <tr>\n",
       "      <td>abril</td>\n",
       "      <td>18.0</td>\n",
       "    </tr>\n",
       "  </tbody>\n",
       "</table>\n",
       "</div>"
      ],
      "text/plain": [
       "         mantiene\n",
       "abasto        2.0\n",
       "abatir        3.0\n",
       "abierto       2.0\n",
       "abonado       1.0\n",
       "abril        18.0"
      ]
     },
     "execution_count": 16,
     "metadata": {},
     "output_type": "execute_result"
    }
   ],
   "source": [
    "mantiene.head()\n"
   ]
  },
  {
   "cell_type": "code",
   "execution_count": 17,
   "metadata": {
    "colab": {
     "base_uri": "https://localhost:8080/",
     "height": 200
    },
    "colab_type": "code",
    "executionInfo": {
     "elapsed": 72265,
     "status": "ok",
     "timestamp": 1576610746304,
     "user": {
      "displayName": "raul abraham Nieto Pacheco",
      "photoUrl": "",
      "userId": "06171730266864656462"
     },
     "user_tz": 360
    },
    "id": "Mf-Z4cy0kWkl",
    "outputId": "3d90e477-20fb-4ba2-def2-ca4875b7679f"
   },
   "outputs": [
    {
     "data": {
      "text/html": [
       "<div>\n",
       "<style scoped>\n",
       "    .dataframe tbody tr th:only-of-type {\n",
       "        vertical-align: middle;\n",
       "    }\n",
       "\n",
       "    .dataframe tbody tr th {\n",
       "        vertical-align: top;\n",
       "    }\n",
       "\n",
       "    .dataframe thead th {\n",
       "        text-align: right;\n",
       "    }\n",
       "</style>\n",
       "<table border=\"1\" class=\"dataframe\">\n",
       "  <thead>\n",
       "    <tr style=\"text-align: right;\">\n",
       "      <th></th>\n",
       "      <th>incrementa</th>\n",
       "    </tr>\n",
       "  </thead>\n",
       "  <tbody>\n",
       "    <tr>\n",
       "      <td>abriendo</td>\n",
       "      <td>1.0</td>\n",
       "    </tr>\n",
       "    <tr>\n",
       "      <td>abril</td>\n",
       "      <td>2.0</td>\n",
       "    </tr>\n",
       "    <tr>\n",
       "      <td>absorber</td>\n",
       "      <td>1.0</td>\n",
       "    </tr>\n",
       "    <tr>\n",
       "      <td>accion</td>\n",
       "      <td>2.0</td>\n",
       "    </tr>\n",
       "    <tr>\n",
       "      <td>acciones</td>\n",
       "      <td>11.0</td>\n",
       "    </tr>\n",
       "  </tbody>\n",
       "</table>\n",
       "</div>"
      ],
      "text/plain": [
       "          incrementa\n",
       "abriendo         1.0\n",
       "abril            2.0\n",
       "absorber         1.0\n",
       "accion           2.0\n",
       "acciones        11.0"
      ]
     },
     "execution_count": 17,
     "metadata": {},
     "output_type": "execute_result"
    }
   ],
   "source": [
    "incrementa.head()"
   ]
  },
  {
   "cell_type": "code",
   "execution_count": 18,
   "metadata": {
    "colab": {
     "base_uri": "https://localhost:8080/",
     "height": 200
    },
    "colab_type": "code",
    "executionInfo": {
     "elapsed": 72258,
     "status": "ok",
     "timestamp": 1576610746305,
     "user": {
      "displayName": "raul abraham Nieto Pacheco",
      "photoUrl": "",
      "userId": "06171730266864656462"
     },
     "user_tz": 360
    },
    "id": "Ce1NsjdDkWkn",
    "outputId": "0b5da56c-e098-4791-c611-e331f0b6e584"
   },
   "outputs": [
    {
     "data": {
      "text/html": [
       "<div>\n",
       "<style scoped>\n",
       "    .dataframe tbody tr th:only-of-type {\n",
       "        vertical-align: middle;\n",
       "    }\n",
       "\n",
       "    .dataframe tbody tr th {\n",
       "        vertical-align: top;\n",
       "    }\n",
       "\n",
       "    .dataframe thead th {\n",
       "        text-align: right;\n",
       "    }\n",
       "</style>\n",
       "<table border=\"1\" class=\"dataframe\">\n",
       "  <thead>\n",
       "    <tr style=\"text-align: right;\">\n",
       "      <th></th>\n",
       "      <th>disminuye</th>\n",
       "    </tr>\n",
       "  </thead>\n",
       "  <tbody>\n",
       "    <tr>\n",
       "      <td>abasto</td>\n",
       "      <td>1.0</td>\n",
       "    </tr>\n",
       "    <tr>\n",
       "      <td>abatimiento</td>\n",
       "      <td>1.0</td>\n",
       "    </tr>\n",
       "    <tr>\n",
       "      <td>abatir</td>\n",
       "      <td>3.0</td>\n",
       "    </tr>\n",
       "    <tr>\n",
       "      <td>abril</td>\n",
       "      <td>3.0</td>\n",
       "    </tr>\n",
       "    <tr>\n",
       "      <td>abriljunio</td>\n",
       "      <td>1.0</td>\n",
       "    </tr>\n",
       "  </tbody>\n",
       "</table>\n",
       "</div>"
      ],
      "text/plain": [
       "             disminuye\n",
       "abasto             1.0\n",
       "abatimiento        1.0\n",
       "abatir             3.0\n",
       "abril              3.0\n",
       "abriljunio         1.0"
      ]
     },
     "execution_count": 18,
     "metadata": {},
     "output_type": "execute_result"
    }
   ],
   "source": [
    "disminuye.head()"
   ]
  },
  {
   "cell_type": "markdown",
   "metadata": {
    "colab_type": "text",
    "id": "6Es1yUUfo0rE"
   },
   "source": [
    "# 6.-Análisis de palabras por clase:\n",
    "\n",
    "**Analizamos el número de palabras que en los documentos de cada clase**"
   ]
  },
  {
   "cell_type": "code",
   "execution_count": 19,
   "metadata": {
    "colab": {
     "base_uri": "https://localhost:8080/",
     "height": 265
    },
    "colab_type": "code",
    "executionInfo": {
     "elapsed": 72250,
     "status": "ok",
     "timestamp": 1576610746306,
     "user": {
      "displayName": "raul abraham Nieto Pacheco",
      "photoUrl": "",
      "userId": "06171730266864656462"
     },
     "user_tz": 360
    },
    "id": "7_l08SnUo-BH",
    "outputId": "3ec099e4-7b3d-4422-dd62-1a37697cc76a"
   },
   "outputs": [
    {
     "data": {
      "image/png": "[encoded data removed]",
      "text/plain": [
       "<Figure size 432x288 with 1 Axes>"
      ]
     },
     "metadata": {
      "needs_background": "light"
     },
     "output_type": "display_data"
    }
   ],
   "source": [
    "def frecp(mant,inc,dism):\n",
    "  \"\"\"Función que crea una gráfica de fecuencias de palabras,o ngramas por clase\n",
    "  Entrada:\n",
    "    mant.-dataframe 1\n",
    "    inc.-dataframe 2\n",
    "    dism.-dataframe 3\n",
    "  Salida:\n",
    "     matplotlib de frecuencias\n",
    "  \"\"\"\n",
    "  vocabs=np.array([len(mant.index),len(inc.index),len(dism.index)])\n",
    "  plt.bar([\"mantiene\",\"incrementa\",\"disminuye\"],vocabs)\n",
    "\n",
    "frecp(mantiene,incrementa,disminuye)"
   ]
  },
  {
   "cell_type": "markdown",
   "metadata": {
    "colab_type": "text",
    "id": "WmRiV3Fko8C3"
   },
   "source": [
    "**De las 3 clases podemos ver que \"la categoría mantiene es la que mayor número de palabras podemos encontrar esto tiene sentido ya que casi el 70% de los documentos pertenecen a dicha clase en cambio \"disminuye tiene menos de la mitad de las palabras de \"mantiene\"**"
   ]
  },
  {
   "cell_type": "markdown",
   "metadata": {
    "colab_type": "text",
    "id": "-azxo9WWqjy4"
   },
   "source": [
    "**Longitud de Palabras por Clase:**"
   ]
  },
  {
   "cell_type": "code",
   "execution_count": 20,
   "metadata": {},
   "outputs": [],
   "source": [
    "dfs={\"mantiene\":mantiene,\"incrementa\":incrementa,\"disminuye\":disminuye}"
   ]
  },
  {
   "cell_type": "code",
   "execution_count": 21,
   "metadata": {
    "colab": {},
    "colab_type": "code",
    "id": "eQ6G0QtCsaEA"
   },
   "outputs": [],
   "source": [
    "def graflen(clase,cl):\n",
    "  \"\"\"Funcion que grafica un histograma de la distribución de la longitud de las palabra en una clase\n",
    "    Entrada:\n",
    "          clase.-dataframe a graficar\n",
    "          cl.-color\n",
    "          name.-nombre que aparece en el título\n",
    "    Salida:\n",
    "          histograma d la distribución\n",
    "  \"\"\"\n",
    "  lenc=[len(w) for w in dfs[clase].index ]#lista con la longitud de cada palabra \n",
    "  print(f\"la media del tamaño de palabras en la clase {dfs[clase].columns[0]} es {np.mean(lenc)}\")\n",
    "  plt.hist(lenc,bins=15, color=cl)#histograma\n",
    "  plt.xlabel(\"tamaño de palabras\")\n",
    "  plt.ylabel(\"frecuencia\")\n",
    "  plt.show()"
   ]
  },
  {
   "cell_type": "code",
   "execution_count": 22,
   "metadata": {},
   "outputs": [
    {
     "name": "stdout",
     "output_type": "stream",
     "text": [
      "la media del tamaño de palabras en la clase mantiene es 8.591911764705882\n"
     ]
    },
    {
     "data": {
      "image/png": "[encoded data removed]",
      "text/plain": [
       "<Figure size 432x288 with 1 Axes>"
      ]
     },
     "metadata": {
      "needs_background": "light"
     },
     "output_type": "display_data"
    },
    {
     "data": {
      "text/plain": [
       "<function __main__.graflen(clase, cl)>"
      ]
     },
     "execution_count": 22,
     "metadata": {},
     "output_type": "execute_result"
    }
   ],
   "source": [
    "interact(graflen, clase=[\"mantiene\",\"incrementa\",\"disminuye\"], cl =[\"r\",\"b\",\"g\"])"
   ]
  },
  {
   "cell_type": "markdown",
   "metadata": {
    "colab_type": "text",
    "id": "NGJ2htQGvSGp"
   },
   "source": [
    "**Más allá de que los promedios del tamaño de las palabras de cada clase es parecido podemos ver que la clase disminuye es la que tiene mayor cantidad de palabras cortas...**"
   ]
  },
  {
   "cell_type": "markdown",
   "metadata": {
    "colab_type": "text",
    "id": "nVmUQJ2bw5qj"
   },
   "source": [
    "**Uniendo las 3 clases en 1 dataframe podemos ver el tamaño del vocabulario que tenemos de todos los documentos**"
   ]
  },
  {
   "cell_type": "code",
   "execution_count": 23,
   "metadata": {
    "colab": {},
    "colab_type": "code",
    "id": "UuDXHrfSkWks"
   },
   "outputs": [],
   "source": [
    "#Hacemos el Dataframe de verosimilitud...\n",
    "likeh=mantiene.join(incrementa,how=\"outer\").join(disminuye,how=\"outer\").fillna(0)+1"
   ]
  },
  {
   "cell_type": "code",
   "execution_count": 24,
   "metadata": {
    "colab": {
     "base_uri": "https://localhost:8080/",
     "height": 35
    },
    "colab_type": "code",
    "executionInfo": {
     "elapsed": 72856,
     "status": "ok",
     "timestamp": 1576610746970,
     "user": {
      "displayName": "raul abraham Nieto Pacheco",
      "photoUrl": "",
      "userId": "06171730266864656462"
     },
     "user_tz": 360
    },
    "id": "dX2L4c_kxdSB",
    "outputId": "dc99f7fe-264a-4700-c086-694be8001605"
   },
   "outputs": [
    {
     "name": "stdout",
     "output_type": "stream",
     "text": [
      "Tenemos dentro del vocabulario 2907 Palabras\n"
     ]
    }
   ],
   "source": [
    "print(f\"Tenemos dentro del vocabulario {len(likeh.index)} Palabras\")"
   ]
  },
  {
   "cell_type": "markdown",
   "metadata": {
    "colab_type": "text",
    "id": "asUUmXVNyLWj"
   },
   "source": [
    "**Palabras más Frecuentes por clase**"
   ]
  },
  {
   "cell_type": "code",
   "execution_count": 25,
   "metadata": {
    "colab": {
     "base_uri": "https://localhost:8080/",
     "height": 424
    },
    "colab_type": "code",
    "executionInfo": {
     "elapsed": 73704,
     "status": "ok",
     "timestamp": 1576610747828,
     "user": {
      "displayName": "raul abraham Nieto Pacheco",
      "photoUrl": "",
      "userId": "06171730266864656462"
     },
     "user_tz": 360
    },
    "id": "svBDar83x3ty",
    "outputId": "9d513074-1416-44c3-a09d-e2f4f1abb36a"
   },
   "outputs": [],
   "source": [
    "def mas_frec(n,dfl):\n",
    "  \"\"\"Funcion que grafica el top n de palabras más frecuentes por clase\n",
    "    Entrada:\n",
    "          n.-int número de datos mas frecuentes a mostrar\n",
    "          dfl.-Dataframe a leer\n",
    "    Salida:\n",
    "          matplotlib graficas de barras de top n de datos más frecuentes.\n",
    "  \"\"\"\n",
    "  fig,ax=plt.subplots(1,3,figsize=(20,5))\n",
    "  dfl[\"mantiene\"].sort_values(ascending=False)[:n].plot.bar(ax=ax[0],color=\"r\")\n",
    "  dfl[\"incrementa\"].sort_values(ascending=False)[:n].plot.bar(ax=ax[1],color=\"b\")\n",
    "  dfl[\"disminuye\"].sort_values(ascending=False)[:n].plot.bar(ax=ax[2],color=\"g\")\n",
    "  fig.suptitle(f\"Top {n} de palabras por Clase\")\n",
    "  ax[0].set_xlabel(\"Mantiene\")\n",
    "  ax[1].set_xlabel(\"Incrementa\")\n",
    "  ax[2].set_xlabel(\"Disminuye\")"
   ]
  },
  {
   "cell_type": "code",
   "execution_count": 26,
   "metadata": {},
   "outputs": [
    {
     "data": {
      "image/png": "[encoded data removed]",
      "text/plain": [
       "<Figure size 1440x360 with 3 Axes>"
      ]
     },
     "metadata": {
      "needs_background": "light"
     },
     "output_type": "display_data"
    },
    {
     "data": {
      "text/plain": [
       "<function __main__.mas_frec(n, dfl)>"
      ]
     },
     "execution_count": 26,
     "metadata": {},
     "output_type": "execute_result"
    }
   ],
   "source": [
    "interact(mas_frec,n=(5,25,5),dfl=fixed(likeh))"
   ]
  },
  {
   "cell_type": "markdown",
   "metadata": {
    "colab_type": "text",
    "id": "b1TlOencGjm1"
   },
   "source": [
    "**Dentro de las palabras más usadas esta \"inflación\", la cual es la más frecuente en todas las clases por tanto podemos agregarla a la lista de stopwords o en su defecto, está palabra no será relevante para diferenciar las clases, por otro lado en la clase \"mantiene\" la 6ta. palabra más frecuente es \"crecimiento\" la cual no se encuentra en el top 15 de la clase Incrementa por tanto si pudiera ser una palabra clave para diferenciar estas 2 clases, aunque está palabra para la clase \"disminuye\" esla 13ra. más frecuente quizás pueda confundir las clases, en la clase \"disminuye\" la 2da palabra más frecuente es \"riesgos\"**\n",
    "\n",
    "Por otro lado no quitaremos ninguna de las palabras ya que se probarán modelos usando n-gramas además de palabras simples"
   ]
  },
  {
   "cell_type": "markdown",
   "metadata": {
    "colab_type": "text",
    "id": "N71uuI2C2q3m"
   },
   "source": [
    "# 7.-Naive Bayes...\n",
    "\n",
    "**Creamos el dataframe de log-verosimilitud...**"
   ]
  },
  {
   "cell_type": "code",
   "execution_count": 27,
   "metadata": {
    "colab": {
     "base_uri": "https://localhost:8080/",
     "height": 200
    },
    "colab_type": "code",
    "executionInfo": {
     "elapsed": 73695,
     "status": "ok",
     "timestamp": 1576610747828,
     "user": {
      "displayName": "raul abraham Nieto Pacheco",
      "photoUrl": "",
      "userId": "06171730266864656462"
     },
     "user_tz": 360
    },
    "id": "4H9j7kZkkWku",
    "outputId": "9ffc851a-939c-4afd-836b-6ae0e29be35e"
   },
   "outputs": [
    {
     "data": {
      "text/html": [
       "<div>\n",
       "<style scoped>\n",
       "    .dataframe tbody tr th:only-of-type {\n",
       "        vertical-align: middle;\n",
       "    }\n",
       "\n",
       "    .dataframe tbody tr th {\n",
       "        vertical-align: top;\n",
       "    }\n",
       "\n",
       "    .dataframe thead th {\n",
       "        text-align: right;\n",
       "    }\n",
       "</style>\n",
       "<table border=\"1\" class=\"dataframe\">\n",
       "  <thead>\n",
       "    <tr style=\"text-align: right;\">\n",
       "      <th></th>\n",
       "      <th>mantiene</th>\n",
       "      <th>incrementa</th>\n",
       "      <th>disminuye</th>\n",
       "    </tr>\n",
       "  </thead>\n",
       "  <tbody>\n",
       "    <tr>\n",
       "      <td>abasto</td>\n",
       "      <td>-9.060525</td>\n",
       "      <td>-9.273785</td>\n",
       "      <td>-8.199189</td>\n",
       "    </tr>\n",
       "    <tr>\n",
       "      <td>abatimiento</td>\n",
       "      <td>-10.159137</td>\n",
       "      <td>-9.273785</td>\n",
       "      <td>-8.199189</td>\n",
       "    </tr>\n",
       "    <tr>\n",
       "      <td>abatir</td>\n",
       "      <td>-8.772843</td>\n",
       "      <td>-9.273785</td>\n",
       "      <td>-7.506042</td>\n",
       "    </tr>\n",
       "    <tr>\n",
       "      <td>abierto</td>\n",
       "      <td>-9.060525</td>\n",
       "      <td>-9.273785</td>\n",
       "      <td>-8.892337</td>\n",
       "    </tr>\n",
       "    <tr>\n",
       "      <td>abonado</td>\n",
       "      <td>-9.465990</td>\n",
       "      <td>-9.273785</td>\n",
       "      <td>-8.892337</td>\n",
       "    </tr>\n",
       "  </tbody>\n",
       "</table>\n",
       "</div>"
      ],
      "text/plain": [
       "              mantiene  incrementa  disminuye\n",
       "abasto       -9.060525   -9.273785  -8.199189\n",
       "abatimiento -10.159137   -9.273785  -8.199189\n",
       "abatir       -8.772843   -9.273785  -7.506042\n",
       "abierto      -9.060525   -9.273785  -8.892337\n",
       "abonado      -9.465990   -9.273785  -8.892337"
      ]
     },
     "execution_count": 27,
     "metadata": {},
     "output_type": "execute_result"
    }
   ],
   "source": [
    "#Creamos el dataframe de probas por palabra por clase:\n",
    "likeh=likeh/likeh.sum(axis=0)\n",
    "#Hacemos la log-verosimilitud\n",
    "log_likeh=np.log(likeh)\n",
    "log_likeh.head()"
   ]
  },
  {
   "cell_type": "markdown",
   "metadata": {
    "colab_type": "text",
    "id": "upn2Oj6xkWkz"
   },
   "source": [
    "**Calculamos LOG Priors**\n",
    "$$\n",
    "log(P(c))=log(\\frac{n_{c}}{n})\n",
    "$$\n",
    "\n",
    "$n_{c}$.- número de documentos en la clase $c$\n",
    "\n",
    "$n$.- número de documentos totales"
   ]
  },
  {
   "cell_type": "code",
   "execution_count": 28,
   "metadata": {
    "colab": {},
    "colab_type": "code",
    "id": "myN1r54CkWkz"
   },
   "outputs": [],
   "source": [
    "#Hacemos los log priors para cada clase...\n",
    "log_prior_matiene=np.log(len(df_train[df_train[\"category\"]==\"mantiene\"])/len(df_train))\n",
    "log_prior_incrementa=np.log(len(df_train[df_train[\"category\"]==\"incrementa\"])/len(df_train))\n",
    "log_prior_disminuye=np.log(len(df_train[df_train[\"category\"]==\"disminuye\"])/len(df_train))\n",
    "log_priors=np.array([log_prior_matiene,log_prior_incrementa,log_prior_disminuye])"
   ]
  },
  {
   "cell_type": "markdown",
   "metadata": {
    "colab_type": "text",
    "id": "lSYj809h4_EB"
   },
   "source": [
    "**La suma de priors debe ser 1 por ello imprimimos np.exp(log_priors)**"
   ]
  },
  {
   "cell_type": "code",
   "execution_count": 29,
   "metadata": {
    "colab": {
     "base_uri": "https://localhost:8080/",
     "height": 35
    },
    "colab_type": "code",
    "executionInfo": {
     "elapsed": 73680,
     "status": "ok",
     "timestamp": 1576610747829,
     "user": {
      "displayName": "raul abraham Nieto Pacheco",
      "photoUrl": "",
      "userId": "06171730266864656462"
     },
     "user_tz": 360
    },
    "id": "e3JmlSykkWk4",
    "outputId": "bb635962-3f08-486b-be4c-0b9dd5e43381"
   },
   "outputs": [
    {
     "name": "stdout",
     "output_type": "stream",
     "text": [
      "[-0.36464311 -1.79175947 -1.97408103] [0.69444444 0.16666667 0.13888889]\n"
     ]
    }
   ],
   "source": [
    "print(log_priors,np.exp(log_priors))"
   ]
  },
  {
   "cell_type": "markdown",
   "metadata": {
    "colab_type": "text",
    "id": "4x8_GoKnC5Eg"
   },
   "source": [
    "**Probando Naive Bayes sobre la lista palab que hicimos al principio del notebook**"
   ]
  },
  {
   "cell_type": "code",
   "execution_count": 30,
   "metadata": {
    "colab": {
     "base_uri": "https://localhost:8080/",
     "height": 106
    },
    "colab_type": "code",
    "executionInfo": {
     "elapsed": 73672,
     "status": "ok",
     "timestamp": 1576610747830,
     "user": {
      "displayName": "raul abraham Nieto Pacheco",
      "photoUrl": "",
      "userId": "06171730266864656462"
     },
     "user_tz": 360
    },
    "id": "aSl0_MfwkWk9",
    "outputId": "72a2077d-6c4f-49de-9fb9-1fae2c7beb37"
   },
   "outputs": [
    {
     "name": "stdout",
     "output_type": "stream",
     "text": [
      "mantiene     -1452.376819\n",
      "incrementa   -1435.028928\n",
      "disminuye    -1471.577543\n",
      "dtype: float64\n"
     ]
    },
    {
     "data": {
      "text/plain": [
       "'incrementa'"
      ]
     },
     "execution_count": 30,
     "metadata": {},
     "output_type": "execute_result"
    }
   ],
   "source": [
    "ans=log_likeh.loc[palab].sum(axis=0)+log_priors\n",
    "print(ans)\n",
    "ans.idxmax()"
   ]
  },
  {
   "cell_type": "markdown",
   "metadata": {
    "colab_type": "text",
    "id": "sFE6h3tAkWlA"
   },
   "source": [
    "# 8.-Predicciones\n",
    "\n",
    "**Pipeline para predecir a que clase pertenece el documento que está en la url..., en otras palabras hacemos una función predict llamada \"pipe_pa\"**"
   ]
  },
  {
   "cell_type": "code",
   "execution_count": 31,
   "metadata": {
    "colab": {},
    "colab_type": "code",
    "id": "Tgf6YhZokWlB"
   },
   "outputs": [],
   "source": [
    "def pipe_pa(url,pat):\n",
    "    \"\"\"Funcion que lee un documento de una url y lo categoriza en una clase según el modelo naive bayes.\n",
    "    Entrada:\n",
    "          url.-string de la liga donde encuentra el documento\n",
    "          pat.-la palabra que se va a buscar en el documento para tomarla como el comienzo del texto de interes\n",
    "    Salida:\n",
    "          string que dice a la clase donde debe ser clasificado.\n",
    "    \"\"\"\n",
    "    raw = parser.from_file(url)\n",
    "    clear_output()#limpiando los mensajes de conexion por documento..\n",
    "    corp=raw[\"content\"]\n",
    "    init_p=corp.find(pat)\n",
    "    corp=corp[init_p+len(pat):]\n",
    "    d1=re.sub(\"[\\d]\",\"\",clean_d(corp))#quitamos todos los numeros para solo trabajar conpalabras\n",
    "    palab=[word for word in d1.split() if word not in stopwords]#obtenemos la lista de palabras del docuemto sin las stopwords\n",
    "    palabt=[w for w in palab if w in log_likeh.index]#filtramos la lista de palabras del documento para considerar sólo las que están en nuestro vocabulario\n",
    "    return((log_likeh.loc[palabt].sum(axis=0)+log_priors).idxmax())#le pasamos el modelo naive bayes y obtenemos la caegoría.    "
   ]
  },
  {
   "cell_type": "markdown",
   "metadata": {
    "colab_type": "text",
    "id": "DKNaDvfAEfwZ"
   },
   "source": [
    "**probando el pipeline..**"
   ]
  },
  {
   "cell_type": "code",
   "execution_count": 32,
   "metadata": {
    "colab": {
     "base_uri": "https://localhost:8080/",
     "height": 72
    },
    "colab_type": "code",
    "executionInfo": {
     "elapsed": 74173,
     "status": "ok",
     "timestamp": 1576610748364,
     "user": {
      "displayName": "raul abraham Nieto Pacheco",
      "photoUrl": "",
      "userId": "06171730266864656462"
     },
     "user_tz": 360
    },
    "id": "sRPcsoXNkWlC",
    "outputId": "5916e22a-e48f-4d5f-fa11-d05c9f4df6e0"
   },
   "outputs": [
    {
     "data": {
      "text/plain": [
       "'mantiene'"
      ]
     },
     "execution_count": 32,
     "metadata": {},
     "output_type": "execute_result"
    }
   ],
   "source": [
    "pipe_pa(df_test[\"url\"][0],pat)"
   ]
  },
  {
   "cell_type": "markdown",
   "metadata": {
    "colab_type": "text",
    "id": "yOKW495xkWlD"
   },
   "source": [
    "**Pasamos el Modelo a cada documento de df_test y obtenemos su clasificacion en la variable pred...**"
   ]
  },
  {
   "cell_type": "code",
   "execution_count": 33,
   "metadata": {
    "colab": {
     "base_uri": "https://localhost:8080/",
     "height": 748
    },
    "colab_type": "code",
    "executionInfo": {
     "elapsed": 89355,
     "status": "ok",
     "timestamp": 1576610763560,
     "user": {
      "displayName": "raul abraham Nieto Pacheco",
      "photoUrl": "",
      "userId": "06171730266864656462"
     },
     "user_tz": 360
    },
    "id": "vuJdZ9QIkWlF",
    "outputId": "d07b6773-7ef3-4d36-ac63-7f33d481739d"
   },
   "outputs": [
    {
     "name": "stdout",
     "output_type": "stream",
     "text": [
      "CPU times: user 1.23 s, sys: 67.4 ms, total: 1.3 s\n",
      "Wall time: 4.53 s\n"
     ]
    },
    {
     "name": "stderr",
     "output_type": "stream",
     "text": [
      "/home/abraham/anaconda4/lib/python3.7/site-packages/ipykernel_launcher.py:2: SettingWithCopyWarning: \n",
      "A value is trying to be set on a copy of a slice from a DataFrame.\n",
      "Try using .loc[row_indexer,col_indexer] = value instead\n",
      "\n",
      "See the caveats in the documentation: http://pandas.pydata.org/pandas-docs/stable/user_guide/indexing.html#returning-a-view-versus-a-copy\n",
      "  \n"
     ]
    },
    {
     "data": {
      "text/html": [
       "<div>\n",
       "<style scoped>\n",
       "    .dataframe tbody tr th:only-of-type {\n",
       "        vertical-align: middle;\n",
       "    }\n",
       "\n",
       "    .dataframe tbody tr th {\n",
       "        vertical-align: top;\n",
       "    }\n",
       "\n",
       "    .dataframe thead th {\n",
       "        text-align: right;\n",
       "    }\n",
       "</style>\n",
       "<table border=\"1\" class=\"dataframe\">\n",
       "  <thead>\n",
       "    <tr style=\"text-align: right;\">\n",
       "      <th></th>\n",
       "      <th>text</th>\n",
       "      <th>url</th>\n",
       "      <th>category</th>\n",
       "      <th>pred</th>\n",
       "    </tr>\n",
       "    <tr>\n",
       "      <th>date</th>\n",
       "      <th></th>\n",
       "      <th></th>\n",
       "      <th></th>\n",
       "      <th></th>\n",
       "    </tr>\n",
       "  </thead>\n",
       "  <tbody>\n",
       "    <tr>\n",
       "      <td>2015-10-29</td>\n",
       "      <td>El objetivo para la Tasa de Inter�s Interbanca...</td>\n",
       "      <td>https://www.banxico.org.mx/publicaciones-y-pre...</td>\n",
       "      <td>mantiene</td>\n",
       "      <td>mantiene</td>\n",
       "    </tr>\n",
       "    <tr>\n",
       "      <td>2012-08-06</td>\n",
       "      <td>El objetivo para la Tasa de Inter�s Interbanca...</td>\n",
       "      <td>https://www.banxico.org.mx/publicaciones-y-pre...</td>\n",
       "      <td>mantiene</td>\n",
       "      <td>mantiene</td>\n",
       "    </tr>\n",
       "    <tr>\n",
       "      <td>2011-04-15</td>\n",
       "      <td>El objetivo para la Tasa de Inter�s Interbanca...</td>\n",
       "      <td>https://www.banxico.org.mx/publicaciones-y-pre...</td>\n",
       "      <td>mantiene</td>\n",
       "      <td>mantiene</td>\n",
       "    </tr>\n",
       "    <tr>\n",
       "      <td>2010-07-16</td>\n",
       "      <td>El objetivo para la Tasa de Inter�s Interbanca...</td>\n",
       "      <td>https://www.banxico.org.mx/publicaciones-y-pre...</td>\n",
       "      <td>mantiene</td>\n",
       "      <td>mantiene</td>\n",
       "    </tr>\n",
       "    <tr>\n",
       "      <td>2018-11-15</td>\n",
       "      <td>El objetivo para la Tasa de Inter�s Interbanca...</td>\n",
       "      <td>https://www.banxico.org.mx/publicaciones-y-pre...</td>\n",
       "      <td>incrementa</td>\n",
       "      <td>incrementa</td>\n",
       "    </tr>\n",
       "  </tbody>\n",
       "</table>\n",
       "</div>"
      ],
      "text/plain": [
       "                                                         text  \\\n",
       "date                                                            \n",
       "2015-10-29  El objetivo para la Tasa de Inter�s Interbanca...   \n",
       "2012-08-06  El objetivo para la Tasa de Inter�s Interbanca...   \n",
       "2011-04-15  El objetivo para la Tasa de Inter�s Interbanca...   \n",
       "2010-07-16  El objetivo para la Tasa de Inter�s Interbanca...   \n",
       "2018-11-15  El objetivo para la Tasa de Inter�s Interbanca...   \n",
       "\n",
       "                                                          url    category  \\\n",
       "date                                                                        \n",
       "2015-10-29  https://www.banxico.org.mx/publicaciones-y-pre...    mantiene   \n",
       "2012-08-06  https://www.banxico.org.mx/publicaciones-y-pre...    mantiene   \n",
       "2011-04-15  https://www.banxico.org.mx/publicaciones-y-pre...    mantiene   \n",
       "2010-07-16  https://www.banxico.org.mx/publicaciones-y-pre...    mantiene   \n",
       "2018-11-15  https://www.banxico.org.mx/publicaciones-y-pre...  incrementa   \n",
       "\n",
       "                  pred  \n",
       "date                    \n",
       "2015-10-29    mantiene  \n",
       "2012-08-06    mantiene  \n",
       "2011-04-15    mantiene  \n",
       "2010-07-16    mantiene  \n",
       "2018-11-15  incrementa  "
      ]
     },
     "execution_count": 33,
     "metadata": {},
     "output_type": "execute_result"
    }
   ],
   "source": [
    "%%time\n",
    "#este proceso tarda 15 segs.\n",
    "df_test[\"pred\"]=df_test.apply(lambda row: pipe_pa(row[\"url\"],pat),axis=1)\n",
    "df_test.head()"
   ]
  },
  {
   "cell_type": "markdown",
   "metadata": {
    "colab_type": "text",
    "id": "McBKHz9nkWlH"
   },
   "source": [
    "# 9.-Validación\n",
    "\n",
    "**Finalmente revisamos los resultados del modelo a tráves de la función kpis que genera la matriz de confusión y el reporte de clasificación para ver métricas como accuracy, recall y precision entre otros...**"
   ]
  },
  {
   "cell_type": "code",
   "execution_count": 34,
   "metadata": {
    "colab": {},
    "colab_type": "code",
    "id": "qBrWNXQ8_pPJ"
   },
   "outputs": [],
   "source": [
    "def kpis(test,pred):\n",
    "  \"\"\"Funcion que genera Matriz de confusión y reporte de clasificación\n",
    "    Entrada:\n",
    "          test.-array strings de etiquetas verdaderas de cada clase\n",
    "          pred.-array strings de etiquetas de predicción de cada clase\n",
    "    Salida:\n",
    "          print de matriz de confusión y reporte\n",
    "  \"\"\"  \n",
    "  print(f'el % de clases bien clasificadas es: {accuracy_score(test,pred)*100}')\n",
    "  #Creamos la matriz de confusión...\n",
    "  cm=confusion_matrix(test,pred,labels=[\"mantiene\",\"disminuye\",\"incrementa\"])\n",
    "  print(cm)\n",
    "  labels=[\"mantiene\",\"disminuye\",\"incrementa\"]\n",
    "  fig = plt.figure()\n",
    "  ax = fig.add_subplot(111)\n",
    "  cax = ax.matshow(cm,cmap='seismic')\n",
    "  for (i, j), z in np.ndenumerate(cm):\n",
    "      ax.text(j, i, '{:0.1f}'.format(z), ha='center', va='center',color=\"w\")\n",
    "  #plt.title('Matriz de Confusión',loc='left')\n",
    "  fig.colorbar(cax)\n",
    "  ax.set_xticklabels([''] + labels)\n",
    "  ax.set_yticklabels([''] + labels)\n",
    "  plt.xlabel('Predicted')\n",
    "  plt.ylabel('True')\n",
    "  plt.show()\n",
    "\n",
    "  print(classification_report(test,pred))"
   ]
  },
  {
   "cell_type": "code",
   "execution_count": 35,
   "metadata": {
    "colab": {
     "base_uri": "https://localhost:8080/",
     "height": 528
    },
    "colab_type": "code",
    "executionInfo": {
     "elapsed": 89688,
     "status": "ok",
     "timestamp": 1576610763913,
     "user": {
      "displayName": "raul abraham Nieto Pacheco",
      "photoUrl": "",
      "userId": "06171730266864656462"
     },
     "user_tz": 360
    },
    "id": "rFSndG_GAJ79",
    "outputId": "5ecd5620-b6e0-430e-d78b-0cad14277a4a"
   },
   "outputs": [
    {
     "name": "stdout",
     "output_type": "stream",
     "text": [
      "el % de clases bien clasificadas es: 81.25\n",
      "[[20  1  1]\n",
      " [ 1  3  0]\n",
      " [ 3  0  3]]\n"
     ]
    },
    {
     "data": {
      "image/png": "[encoded data removed]",
      "text/plain": [
       "<Figure size 432x288 with 2 Axes>"
      ]
     },
     "metadata": {
      "needs_background": "light"
     },
     "output_type": "display_data"
    },
    {
     "name": "stdout",
     "output_type": "stream",
     "text": [
      "              precision    recall  f1-score   support\n",
      "\n",
      "   disminuye       0.75      0.75      0.75         4\n",
      "  incrementa       0.75      0.50      0.60         6\n",
      "    mantiene       0.83      0.91      0.87        22\n",
      "\n",
      "    accuracy                           0.81        32\n",
      "   macro avg       0.78      0.72      0.74        32\n",
      "weighted avg       0.81      0.81      0.80        32\n",
      "\n"
     ]
    }
   ],
   "source": [
    "kpis(df_test[\"category\"],df_test[\"pred\"])"
   ]
  },
  {
   "cell_type": "markdown",
   "metadata": {
    "colab_type": "text",
    "id": "-YXplPT4FEa5"
   },
   "source": [
    "**La clase que más le cuesta clasificar correctamente es la de incrementa ya que si vemos el reporte, el recall muestra un 50% lo que significa que la mitad de los casos de esta clase están mal clasificados en este caso son 3 que se predijeron como \"mantiene\", por otro lado 91%(20/22) de los documentos de la clase mantiene fueron bien clasificados(recall), para la clase disminuye se predijeron 4 documentos que pertencían a esta y 3 estaban correcto (precision).** "
   ]
  },
  {
   "cell_type": "markdown",
   "metadata": {
    "colab_type": "text",
    "id": "SdZoxH4MOv7e"
   },
   "source": [
    "# 10.-N-gramas\n",
    "\n",
    "**Y si usamos n-gramas ¿Podemos mejorar la asertividad del Modelo?**"
   ]
  },
  {
   "cell_type": "markdown",
   "metadata": {
    "colab_type": "text",
    "id": "ioQ-3IqvRrmt"
   },
   "source": [
    "**Haciendo funciones similares para usar los ngramas como vocabularios...**\n",
    "\n",
    "Función que Convierte la lista de n-gramas de tamaño $n$ en dataframe"
   ]
  },
  {
   "cell_type": "code",
   "execution_count": 36,
   "metadata": {
    "colab": {},
    "colab_type": "code",
    "id": "6CtizsggPw7o"
   },
   "outputs": [],
   "source": [
    "def pagramas(url,pat,name,ngrama):\n",
    "    \"\"\"Funcion que lee un documento de una url y lo convierte en un dataframe con la frecuencia de cada ngrama de tamaño ngrama\n",
    "    Entrada:\n",
    "          url.-string de la liga donde encuentra el documento\n",
    "          pat.-la palabra que se va a buscar en el documento para tomarla como el comienzo del texto de interes\n",
    "          name.-nombre que le queremos poner  a la clumna del dataframe resultante\n",
    "          ngrama.-número de palabras a juntar y contar como 1 sola.\n",
    "    Salida:\n",
    "          df1.-pandas dataframe \n",
    "    \"\"\"  \n",
    "    \n",
    "    raw = parser.from_file(url)#leemos el archivo de la url y guardamos\n",
    "    clear_output()#limpiando los mensajes de conexion por documento...\n",
    "    corp=raw[\"content\"]#obtenemos el texto\n",
    "    init_p=corp.find(pat)#encontramos la frase para tomarla como reerencia del comienzo del texto\n",
    "    corp=corp[init_p+len(pat):]#depués partir del pat queremos leer nuestro documento\n",
    "    d1=re.sub(\"[\\d]\",\"\",clean_d(corp))#quitamos todos los numeros para solo trabajar conpalabras\n",
    "    palab=[word for word in d1.split() if word not in stopwords]#nos quedamos con la lista de palabras del doc quitando stopwords\n",
    "    palag=list(nltk.ngrams(palab,ngrama))#creamos la lista de ngramas que existen\n",
    "    d=dict(Counter(palag))#hacemos diccionario de las frecuencias de ngramas\n",
    "    df1=pd.DataFrame.from_dict(d,orient=\"index\",columns=[name])#convertimos el diccionario en datframe\n",
    "    return(df1)"
   ]
  },
  {
   "cell_type": "markdown",
   "metadata": {
    "colab_type": "text",
    "id": "8Pt5aux0G9gz"
   },
   "source": [
    "**Ejemplo 3-grama...**"
   ]
  },
  {
   "cell_type": "code",
   "execution_count": 37,
   "metadata": {
    "colab": {
     "base_uri": "https://localhost:8080/",
     "height": 238
    },
    "colab_type": "code",
    "executionInfo": {
     "elapsed": 90103,
     "status": "ok",
     "timestamp": 1576610764343,
     "user": {
      "displayName": "raul abraham Nieto Pacheco",
      "photoUrl": "",
      "userId": "06171730266864656462"
     },
     "user_tz": 360
    },
    "id": "9GTZ85AGPzYs",
    "outputId": "c2a0294d-373e-444f-e62b-ecef2e4cfe77"
   },
   "outputs": [
    {
     "data": {
      "text/html": [
       "<div>\n",
       "<style scoped>\n",
       "    .dataframe tbody tr th:only-of-type {\n",
       "        vertical-align: middle;\n",
       "    }\n",
       "\n",
       "    .dataframe tbody tr th {\n",
       "        vertical-align: top;\n",
       "    }\n",
       "\n",
       "    .dataframe thead th {\n",
       "        text-align: right;\n",
       "    }\n",
       "</style>\n",
       "<table border=\"1\" class=\"dataframe\">\n",
       "  <thead>\n",
       "    <tr style=\"text-align: right;\">\n",
       "      <th></th>\n",
       "      <th>incrementa</th>\n",
       "    </tr>\n",
       "  </thead>\n",
       "  <tbody>\n",
       "    <tr>\n",
       "      <td>(ciento, objetivo, dia)</td>\n",
       "      <td>2</td>\n",
       "    </tr>\n",
       "    <tr>\n",
       "      <td>(objetivo, dia, economia)</td>\n",
       "      <td>1</td>\n",
       "    </tr>\n",
       "    <tr>\n",
       "      <td>(dia, economia, mundial)</td>\n",
       "      <td>1</td>\n",
       "    </tr>\n",
       "    <tr>\n",
       "      <td>(economia, mundial, continua)</td>\n",
       "      <td>1</td>\n",
       "    </tr>\n",
       "    <tr>\n",
       "      <td>(mundial, continua, desacelerandose)</td>\n",
       "      <td>1</td>\n",
       "    </tr>\n",
       "  </tbody>\n",
       "</table>\n",
       "</div>"
      ],
      "text/plain": [
       "                                      incrementa\n",
       "(ciento, objetivo, dia)                        2\n",
       "(objetivo, dia, economia)                      1\n",
       "(dia, economia, mundial)                       1\n",
       "(economia, mundial, continua)                  1\n",
       "(mundial, continua, desacelerandose)           1"
      ]
     },
     "execution_count": 37,
     "metadata": {},
     "output_type": "execute_result"
    }
   ],
   "source": [
    "pagramas(urll,pat,df[\"category\"][4],3).head()"
   ]
  },
  {
   "cell_type": "markdown",
   "metadata": {
    "colab_type": "text",
    "id": "WbmxMAdEFYYc"
   },
   "source": [
    "Función uneclas_g une todos los $n-$gramas de la clase $c$"
   ]
  },
  {
   "cell_type": "code",
   "execution_count": 38,
   "metadata": {
    "colab": {},
    "colab_type": "code",
    "id": "baNBVKSHRd0v"
   },
   "outputs": [],
   "source": [
    "def uneclas_g(clase,ngrama):\n",
    "    \"\"\"Funcion que busca y une todos los documentos dentro de df_train cuya categoria es la misma..\n",
    "    Entrada:\n",
    "          clase.-string que significa la categoría a buscar\n",
    "          ngrama.-int el tamaño del nrama\n",
    "    Salida:\n",
    "          pandas dataframe con 1 columna que suma las frecuencias de cada ngrama en cada documento.\n",
    "    \"\"\"  \n",
    "    dff=df_train[df_train[\"category\"]==clase]#filtramos sólo por la ctegoría de interes\n",
    "    doc=pagramas(dff[\"url\"][0],pat,\"0\",ngrama)#usamos la función pagramas para tener el dataframe de frecuencias del  1er documento\n",
    "    for i in range(1,len(dff)):\n",
    "        doc=doc.join(pagramas(dff[\"url\"][i],pat,f\"{i}\",ngrama),how=\"outer\")#unimos todos los dataframes de frecuencias de ngramas usado outer para agregar ngramas nuevos en cada iteración\n",
    "    return(pd.DataFrame(doc.sum(axis=1),columns=[clase]))"
   ]
  },
  {
   "cell_type": "markdown",
   "metadata": {
    "colab_type": "text",
    "id": "DvIlj9BdQd7l"
   },
   "source": [
    "**Haciendo los dataframes de $3-$gramas por clase**"
   ]
  },
  {
   "cell_type": "code",
   "execution_count": 39,
   "metadata": {
    "colab": {
     "base_uri": "https://localhost:8080/",
     "height": 1000
    },
    "colab_type": "code",
    "executionInfo": {
     "elapsed": 125968,
     "status": "ok",
     "timestamp": 1576610800231,
     "user": {
      "displayName": "raul abraham Nieto Pacheco",
      "photoUrl": "",
      "userId": "06171730266864656462"
     },
     "user_tz": 360
    },
    "id": "yiZOpV83SWIe",
    "outputId": "319d560f-01ab-4c58-d47f-7eb51e88cad8"
   },
   "outputs": [
    {
     "name": "stdout",
     "output_type": "stream",
     "text": [
      "CPU times: user 4.31 s, sys: 223 ms, total: 4.54 s\n",
      "Wall time: 12 s\n"
     ]
    }
   ],
   "source": [
    "%%time\n",
    "#este código tarda 1min..\n",
    "mantiene_3=uneclas_g(\"mantiene\",3)\n",
    "incrementa_3=uneclas_g(\"incrementa\",3)\n",
    "disminuye_3=uneclas_g(\"disminuye\",3)"
   ]
  },
  {
   "cell_type": "markdown",
   "metadata": {
    "colab_type": "text",
    "id": "hqsI3pSQGU2t"
   },
   "source": [
    "**Análisis de $3-$gramas por clase**"
   ]
  },
  {
   "cell_type": "code",
   "execution_count": 40,
   "metadata": {
    "colab": {
     "base_uri": "https://localhost:8080/",
     "height": 265
    },
    "colab_type": "code",
    "executionInfo": {
     "elapsed": 126079,
     "status": "ok",
     "timestamp": 1576610800349,
     "user": {
      "displayName": "raul abraham Nieto Pacheco",
      "photoUrl": "",
      "userId": "06171730266864656462"
     },
     "user_tz": 360
    },
    "id": "uyklQ927Gx-B",
    "outputId": "765cfc7a-ed1c-4ef3-d8b5-239740abbf60"
   },
   "outputs": [
    {
     "data": {
      "image/png": "[encoded data removed]",
      "text/plain": [
       "<Figure size 432x288 with 1 Axes>"
      ]
     },
     "metadata": {
      "needs_background": "light"
     },
     "output_type": "display_data"
    }
   ],
   "source": [
    "frecp(mantiene_3,incrementa_3,disminuye_3)"
   ]
  },
  {
   "cell_type": "markdown",
   "metadata": {
    "colab_type": "text",
    "id": "mYwfIad-Ghq2"
   },
   "source": [
    "**haciendo 3-gramas la diferencia entre la clase mantiene y disminuye se duplica con respecto a sólo usar palabras**\n",
    "\n",
    "Mostramos como se ve la clase mantiene"
   ]
  },
  {
   "cell_type": "code",
   "execution_count": 41,
   "metadata": {
    "colab": {
     "base_uri": "https://localhost:8080/",
     "height": 200
    },
    "colab_type": "code",
    "executionInfo": {
     "elapsed": 126072,
     "status": "ok",
     "timestamp": 1576610800350,
     "user": {
      "displayName": "raul abraham Nieto Pacheco",
      "photoUrl": "",
      "userId": "06171730266864656462"
     },
     "user_tz": 360
    },
    "id": "eX-D1ZcNSk9N",
    "outputId": "425dfa2e-0319-4f78-d790-329ab443f92d"
   },
   "outputs": [
    {
     "data": {
      "text/html": [
       "<div>\n",
       "<style scoped>\n",
       "    .dataframe tbody tr th:only-of-type {\n",
       "        vertical-align: middle;\n",
       "    }\n",
       "\n",
       "    .dataframe tbody tr th {\n",
       "        vertical-align: top;\n",
       "    }\n",
       "\n",
       "    .dataframe thead th {\n",
       "        text-align: right;\n",
       "    }\n",
       "</style>\n",
       "<table border=\"1\" class=\"dataframe\">\n",
       "  <thead>\n",
       "    <tr style=\"text-align: right;\">\n",
       "      <th></th>\n",
       "      <th>mantiene</th>\n",
       "    </tr>\n",
       "  </thead>\n",
       "  <tbody>\n",
       "    <tr>\n",
       "      <td>(abasto, gas, natural)</td>\n",
       "      <td>1.0</td>\n",
       "    </tr>\n",
       "    <tr>\n",
       "      <td>(abasto, incremento, precios)</td>\n",
       "      <td>1.0</td>\n",
       "    </tr>\n",
       "    <tr>\n",
       "      <td>(abatir, corrupcion, combatir)</td>\n",
       "      <td>1.0</td>\n",
       "    </tr>\n",
       "    <tr>\n",
       "      <td>(abatir, corrupcion, cuarto)</td>\n",
       "      <td>1.0</td>\n",
       "    </tr>\n",
       "    <tr>\n",
       "      <td>(abatir, corrupcion, informacion)</td>\n",
       "      <td>1.0</td>\n",
       "    </tr>\n",
       "  </tbody>\n",
       "</table>\n",
       "</div>"
      ],
      "text/plain": [
       "                                   mantiene\n",
       "(abasto, gas, natural)                  1.0\n",
       "(abasto, incremento, precios)           1.0\n",
       "(abatir, corrupcion, combatir)          1.0\n",
       "(abatir, corrupcion, cuarto)            1.0\n",
       "(abatir, corrupcion, informacion)       1.0"
      ]
     },
     "execution_count": 41,
     "metadata": {},
     "output_type": "execute_result"
    }
   ],
   "source": [
    "mantiene_3.head()"
   ]
  },
  {
   "cell_type": "markdown",
   "metadata": {
    "colab_type": "text",
    "id": "9ve5sCnZRnri"
   },
   "source": [
    "**Dataframes de n-gramas**\n",
    "\n",
    "Hacemos el dataframe de las log-verosimilitudes por clase"
   ]
  },
  {
   "cell_type": "code",
   "execution_count": 42,
   "metadata": {
    "colab": {
     "base_uri": "https://localhost:8080/",
     "height": 761
    },
    "colab_type": "code",
    "executionInfo": {
     "elapsed": 127512,
     "status": "ok",
     "timestamp": 1576610801799,
     "user": {
      "displayName": "raul abraham Nieto Pacheco",
      "photoUrl": "",
      "userId": "06171730266864656462"
     },
     "user_tz": 360
    },
    "id": "AlUEx6H6RXLy",
    "outputId": "b4557a2e-9587-446f-fd98-b7cafbaf05a7"
   },
   "outputs": [
    {
     "data": {
      "image/png": "[encoded data removed]",
      "text/plain": [
       "<Figure size 1440x360 with 3 Axes>"
      ]
     },
     "metadata": {
      "needs_background": "light"
     },
     "output_type": "display_data"
    },
    {
     "data": {
      "text/html": [
       "<div>\n",
       "<style scoped>\n",
       "    .dataframe tbody tr th:only-of-type {\n",
       "        vertical-align: middle;\n",
       "    }\n",
       "\n",
       "    .dataframe tbody tr th {\n",
       "        vertical-align: top;\n",
       "    }\n",
       "\n",
       "    .dataframe thead th {\n",
       "        text-align: right;\n",
       "    }\n",
       "</style>\n",
       "<table border=\"1\" class=\"dataframe\">\n",
       "  <thead>\n",
       "    <tr style=\"text-align: right;\">\n",
       "      <th></th>\n",
       "      <th>mantiene</th>\n",
       "      <th>incrementa</th>\n",
       "      <th>disminuye</th>\n",
       "    </tr>\n",
       "  </thead>\n",
       "  <tbody>\n",
       "    <tr>\n",
       "      <td>(abasto, expectativas, inflacion)</td>\n",
       "      <td>-10.757882</td>\n",
       "      <td>-10.370487</td>\n",
       "      <td>-9.565529</td>\n",
       "    </tr>\n",
       "    <tr>\n",
       "      <td>(abasto, gas, natural)</td>\n",
       "      <td>-10.064734</td>\n",
       "      <td>-10.370487</td>\n",
       "      <td>-10.258676</td>\n",
       "    </tr>\n",
       "    <tr>\n",
       "      <td>(abasto, incremento, precios)</td>\n",
       "      <td>-10.064734</td>\n",
       "      <td>-10.370487</td>\n",
       "      <td>-10.258676</td>\n",
       "    </tr>\n",
       "    <tr>\n",
       "      <td>(abatimiento, inflacion, facilita)</td>\n",
       "      <td>-10.757882</td>\n",
       "      <td>-10.370487</td>\n",
       "      <td>-9.565529</td>\n",
       "    </tr>\n",
       "    <tr>\n",
       "      <td>(abatir, corrupcion, combatir)</td>\n",
       "      <td>-10.064734</td>\n",
       "      <td>-10.370487</td>\n",
       "      <td>-8.872382</td>\n",
       "    </tr>\n",
       "  </tbody>\n",
       "</table>\n",
       "</div>"
      ],
      "text/plain": [
       "                                     mantiene  incrementa  disminuye\n",
       "(abasto, expectativas, inflacion)  -10.757882  -10.370487  -9.565529\n",
       "(abasto, gas, natural)             -10.064734  -10.370487 -10.258676\n",
       "(abasto, incremento, precios)      -10.064734  -10.370487 -10.258676\n",
       "(abatimiento, inflacion, facilita) -10.757882  -10.370487  -9.565529\n",
       "(abatir, corrupcion, combatir)     -10.064734  -10.370487  -8.872382"
      ]
     },
     "execution_count": 42,
     "metadata": {},
     "output_type": "execute_result"
    }
   ],
   "source": [
    "likeh_g=mantiene_3.join(incrementa_3,how=\"outer\").join(disminuye_3,how=\"outer\").fillna(0)+1\n",
    "print(f\"Tenemos dentro del vocabulario {len(likeh_g.index)} ngramas\")\n",
    "interact(mas_frec,n=(5,25,5),dfl=fixed(likeh_g))\n",
    "#mas_frec(15,likeh_g)\n",
    "#Creamos el dataframe de probas por ngrama por clase:\n",
    "likeh_g=likeh_g/likeh_g.sum(axis=0)\n",
    "#Hacemos la log-verosimilitud\n",
    "log_likeh_g=np.log(likeh_g)\n",
    "log_likeh_g.head()"
   ]
  },
  {
   "cell_type": "markdown",
   "metadata": {
    "colab_type": "text",
    "id": "S2Bh7FljH2vl"
   },
   "source": [
    "Hacemos la función predict para los $3-$gramas y se la aplicamos a cada docuemto del dataframe df_test guardándolo en la variable **pred3**."
   ]
  },
  {
   "cell_type": "code",
   "execution_count": 43,
   "metadata": {
    "colab": {},
    "colab_type": "code",
    "id": "7RGuRcoWSqFJ"
   },
   "outputs": [],
   "source": [
    "def pipe_pag(url,pat,ngrama,dat):\n",
    "    \"\"\"Funcion que lee un documento de una url y lo convierte en un dataframe con la frecuencia de cada ngrama de tamaño ngrama\n",
    "    Entrada:\n",
    "          url.-string de la liga donde encuentra el documento\n",
    "          pat.-la palabra que se va a buscar en el documento para tomarla como el comienzo del texto de interes\n",
    "          name.-nombre que le queremos poner  a la clumna del dataframe resultante\n",
    "          ngrama.-número de palabras a juntar y contar como 1 sola.\n",
    "          dat.-Dataframe de donde se van a leer las log-verosimilitudes.\n",
    "    Salida:\n",
    "          df1.-pandas dataframe \n",
    "    \"\"\"  \n",
    "    \n",
    "    raw = parser.from_file(url)#leemos el archivo de la url y guardamos\n",
    "    clear_output()#limpiamos mensajes de conexion a cada documento...\n",
    "    corp=raw[\"content\"]#obtenemos el texto\n",
    "    init_p=corp.find(pat)#encontramos la frase para tomarla como reerencia del comienzo del texto\n",
    "    corp=corp[init_p+len(pat):]#depués partir del pat queremos leer nuestro documento\n",
    "    d1=re.sub(\"[\\d]\",\"\",clean_d(corp))#quitamos todos los numeros para solo trabajar conpalabras\n",
    "    palab=[word for word in d1.split() if word not in stopwords]#nos quedamos con la lista de palabras del doc quitando stopwords\n",
    "    palag=list(nltk.ngrams(palab,ngrama))#creamos la lista de ngramas que existen\n",
    "    palabt=[w for w in palag if w in dat.index]#filtramos la lista de palabras del documento para considerar sólo las que están en nuestro vocabulario\n",
    "    return((dat.loc[palabt].sum(axis=0)+log_priors).idxmax())#le pasamos el modelo naive bayes y obtenemos la categoría.    "
   ]
  },
  {
   "cell_type": "code",
   "execution_count": 44,
   "metadata": {
    "colab": {
     "base_uri": "https://localhost:8080/",
     "height": 748
    },
    "colab_type": "code",
    "executionInfo": {
     "elapsed": 142011,
     "status": "ok",
     "timestamp": 1576610816314,
     "user": {
      "displayName": "raul abraham Nieto Pacheco",
      "photoUrl": "",
      "userId": "06171730266864656462"
     },
     "user_tz": 360
    },
    "id": "X6B7ZM7STzfC",
    "outputId": "00fc7e84-4cd3-449a-b4c3-9b38a2885d71"
   },
   "outputs": [
    {
     "name": "stdout",
     "output_type": "stream",
     "text": [
      "CPU times: user 1.15 s, sys: 49.6 ms, total: 1.2 s\n",
      "Wall time: 4.13 s\n"
     ]
    },
    {
     "name": "stderr",
     "output_type": "stream",
     "text": [
      "/home/abraham/anaconda4/lib/python3.7/site-packages/ipykernel_launcher.py:1: SettingWithCopyWarning: \n",
      "A value is trying to be set on a copy of a slice from a DataFrame.\n",
      "Try using .loc[row_indexer,col_indexer] = value instead\n",
      "\n",
      "See the caveats in the documentation: http://pandas.pydata.org/pandas-docs/stable/user_guide/indexing.html#returning-a-view-versus-a-copy\n",
      "  \"\"\"Entry point for launching an IPython kernel.\n"
     ]
    },
    {
     "data": {
      "text/html": [
       "<div>\n",
       "<style scoped>\n",
       "    .dataframe tbody tr th:only-of-type {\n",
       "        vertical-align: middle;\n",
       "    }\n",
       "\n",
       "    .dataframe tbody tr th {\n",
       "        vertical-align: top;\n",
       "    }\n",
       "\n",
       "    .dataframe thead th {\n",
       "        text-align: right;\n",
       "    }\n",
       "</style>\n",
       "<table border=\"1\" class=\"dataframe\">\n",
       "  <thead>\n",
       "    <tr style=\"text-align: right;\">\n",
       "      <th></th>\n",
       "      <th>text</th>\n",
       "      <th>url</th>\n",
       "      <th>category</th>\n",
       "      <th>pred</th>\n",
       "      <th>pred3</th>\n",
       "    </tr>\n",
       "    <tr>\n",
       "      <th>date</th>\n",
       "      <th></th>\n",
       "      <th></th>\n",
       "      <th></th>\n",
       "      <th></th>\n",
       "      <th></th>\n",
       "    </tr>\n",
       "  </thead>\n",
       "  <tbody>\n",
       "    <tr>\n",
       "      <td>2015-10-29</td>\n",
       "      <td>El objetivo para la Tasa de Inter�s Interbanca...</td>\n",
       "      <td>https://www.banxico.org.mx/publicaciones-y-pre...</td>\n",
       "      <td>mantiene</td>\n",
       "      <td>mantiene</td>\n",
       "      <td>mantiene</td>\n",
       "    </tr>\n",
       "    <tr>\n",
       "      <td>2012-08-06</td>\n",
       "      <td>El objetivo para la Tasa de Inter�s Interbanca...</td>\n",
       "      <td>https://www.banxico.org.mx/publicaciones-y-pre...</td>\n",
       "      <td>mantiene</td>\n",
       "      <td>mantiene</td>\n",
       "      <td>mantiene</td>\n",
       "    </tr>\n",
       "    <tr>\n",
       "      <td>2011-04-15</td>\n",
       "      <td>El objetivo para la Tasa de Inter�s Interbanca...</td>\n",
       "      <td>https://www.banxico.org.mx/publicaciones-y-pre...</td>\n",
       "      <td>mantiene</td>\n",
       "      <td>mantiene</td>\n",
       "      <td>mantiene</td>\n",
       "    </tr>\n",
       "    <tr>\n",
       "      <td>2010-07-16</td>\n",
       "      <td>El objetivo para la Tasa de Inter�s Interbanca...</td>\n",
       "      <td>https://www.banxico.org.mx/publicaciones-y-pre...</td>\n",
       "      <td>mantiene</td>\n",
       "      <td>mantiene</td>\n",
       "      <td>mantiene</td>\n",
       "    </tr>\n",
       "    <tr>\n",
       "      <td>2018-11-15</td>\n",
       "      <td>El objetivo para la Tasa de Inter�s Interbanca...</td>\n",
       "      <td>https://www.banxico.org.mx/publicaciones-y-pre...</td>\n",
       "      <td>incrementa</td>\n",
       "      <td>incrementa</td>\n",
       "      <td>incrementa</td>\n",
       "    </tr>\n",
       "  </tbody>\n",
       "</table>\n",
       "</div>"
      ],
      "text/plain": [
       "                                                         text  \\\n",
       "date                                                            \n",
       "2015-10-29  El objetivo para la Tasa de Inter�s Interbanca...   \n",
       "2012-08-06  El objetivo para la Tasa de Inter�s Interbanca...   \n",
       "2011-04-15  El objetivo para la Tasa de Inter�s Interbanca...   \n",
       "2010-07-16  El objetivo para la Tasa de Inter�s Interbanca...   \n",
       "2018-11-15  El objetivo para la Tasa de Inter�s Interbanca...   \n",
       "\n",
       "                                                          url    category  \\\n",
       "date                                                                        \n",
       "2015-10-29  https://www.banxico.org.mx/publicaciones-y-pre...    mantiene   \n",
       "2012-08-06  https://www.banxico.org.mx/publicaciones-y-pre...    mantiene   \n",
       "2011-04-15  https://www.banxico.org.mx/publicaciones-y-pre...    mantiene   \n",
       "2010-07-16  https://www.banxico.org.mx/publicaciones-y-pre...    mantiene   \n",
       "2018-11-15  https://www.banxico.org.mx/publicaciones-y-pre...  incrementa   \n",
       "\n",
       "                  pred       pred3  \n",
       "date                                \n",
       "2015-10-29    mantiene    mantiene  \n",
       "2012-08-06    mantiene    mantiene  \n",
       "2011-04-15    mantiene    mantiene  \n",
       "2010-07-16    mantiene    mantiene  \n",
       "2018-11-15  incrementa  incrementa  "
      ]
     },
     "execution_count": 44,
     "metadata": {},
     "output_type": "execute_result"
    }
   ],
   "source": [
    "%%time\n",
    "df_test[\"pred3\"]=df_test.apply(lambda row: pipe_pag(row[\"url\"],pat,3,log_likeh_g),axis=1)\n",
    "df_test.head()"
   ]
  },
  {
   "cell_type": "markdown",
   "metadata": {
    "colab_type": "text",
    "id": "USb_24BpFaeq"
   },
   "source": [
    "# 11.-Validación Modelo 3-gramas"
   ]
  },
  {
   "cell_type": "code",
   "execution_count": 45,
   "metadata": {
    "colab": {
     "base_uri": "https://localhost:8080/",
     "height": 528
    },
    "colab_type": "code",
    "executionInfo": {
     "elapsed": 142178,
     "status": "ok",
     "timestamp": 1576610816488,
     "user": {
      "displayName": "raul abraham Nieto Pacheco",
      "photoUrl": "",
      "userId": "06171730266864656462"
     },
     "user_tz": 360
    },
    "id": "u0Cb6HXXFIJc",
    "outputId": "57acee24-6cd6-4107-8a9b-d3f34f2c2169"
   },
   "outputs": [
    {
     "name": "stdout",
     "output_type": "stream",
     "text": [
      "el % de clases bien clasificadas es: 78.125\n",
      "[[19  1  2]\n",
      " [ 1  3  0]\n",
      " [ 3  0  3]]\n"
     ]
    },
    {
     "data": {
      "image/png": "[encoded data removed]",
      "text/plain": [
       "<Figure size 432x288 with 2 Axes>"
      ]
     },
     "metadata": {
      "needs_background": "light"
     },
     "output_type": "display_data"
    },
    {
     "name": "stdout",
     "output_type": "stream",
     "text": [
      "              precision    recall  f1-score   support\n",
      "\n",
      "   disminuye       0.75      0.75      0.75         4\n",
      "  incrementa       0.60      0.50      0.55         6\n",
      "    mantiene       0.83      0.86      0.84        22\n",
      "\n",
      "    accuracy                           0.78        32\n",
      "   macro avg       0.73      0.70      0.71        32\n",
      "weighted avg       0.77      0.78      0.78        32\n",
      "\n"
     ]
    }
   ],
   "source": [
    "kpis(df_test[\"category\"],df_test[\"pred3\"])"
   ]
  },
  {
   "cell_type": "markdown",
   "metadata": {
    "colab_type": "text",
    "id": "haXDNi3gVtNZ"
   },
   "source": [
    "**Por tanto usar 3-gramas no mejora el modelo original de usar palabras ya que el 78.125% de los documentos están bien clasificdos vs. el 81.25% de sólo usar palabras**"
   ]
  },
  {
   "cell_type": "markdown",
   "metadata": {
    "colab_type": "text",
    "id": "-67tGFnAQnAi"
   },
   "source": [
    "# 12.-Pipeline N-gramas\n",
    "\n",
    "**Haciendo un pipeline completo para crear un modelo con un n-grama end 2 end**\n",
    "\n",
    "Creamos la función modelo_ngram que genere las listas de n-gramas una las clases en dataframes, haga el dataframe de verosimilitud y aplique un predict a los documentos del datframe de test."
   ]
  },
  {
   "cell_type": "code",
   "execution_count": 46,
   "metadata": {
    "colab": {},
    "colab_type": "code",
    "id": "Ydt8vZcwUOlH"
   },
   "outputs": [],
   "source": [
    "def modelo_ngram(n):\n",
    "  \"\"\"Funcion que genera las prediciones para un n-grama de las palabras en los documentos\n",
    "    Entrada:\n",
    "          n.-int el tamaño del ngrama\n",
    "    Salida:\n",
    "          pred.- vector de clasificaciones\n",
    "  \"\"\"  \n",
    "  mant=uneclas_g(\"mantiene\",n)\n",
    "  inc=uneclas_g(\"incrementa\",n)\n",
    "  dism=uneclas_g(\"disminuye\",n)\n",
    "  likeh_g=mant.join(inc,how=\"outer\").join(dism,how=\"outer\").fillna(0)+1\n",
    "  print(f\"Tenemos dentro del vocabulario {len(likeh_g.index)} ngramas\")\n",
    "  #Creamos el dataframe de probas por ngrama por clase:\n",
    "  likeh_g=likeh_g/likeh_g.sum(axis=0)\n",
    "  #Hacemos la log-verosimilitud\n",
    "  log_likeh_g=np.log(likeh_g)\n",
    "  pred=df_test.apply(lambda row: pipe_pag(row[\"url\"],pat,n,log_likeh_g),axis=1)\n",
    "  return(pred)\n"
   ]
  },
  {
   "cell_type": "markdown",
   "metadata": {
    "colab_type": "text",
    "id": "uBxRxZARYIdB"
   },
   "source": [
    "**Buscando el mejor modelo bajo la métrica accuracy, probando con ngramas desde 1(que es lo mismo que separar las plabras) hasta 9, veamos que combinaciones nos dan mejor accuracy y seleccionemos el mejor de los modelos...**\n"
   ]
  },
  {
   "cell_type": "markdown",
   "metadata": {
    "colab_type": "text",
    "id": "7Qaoh4NeMyIQ"
   },
   "source": [
    "# 13.-Comparando múltiples modelos\n",
    "\n",
    "**Usando la función anterior comparamos múltiples modelos donde la diferencia entre cada uno es el tamaño de n-grama que se usa como input**\n",
    "\n",
    "**NOTA** este proceso tarda cerca de **5 mins..**"
   ]
  },
  {
   "cell_type": "code",
   "execution_count": 47,
   "metadata": {
    "colab": {
     "base_uri": "https://localhost:8080/",
     "height": 1000
    },
    "colab_type": "code",
    "executionInfo": {
     "elapsed": 593961,
     "status": "ok",
     "timestamp": 1576611268288,
     "user": {
      "displayName": "raul abraham Nieto Pacheco",
      "photoUrl": "",
      "userId": "06171730266864656462"
     },
     "user_tz": 360
    },
    "id": "0RBItf-LWiLm",
    "outputId": "062f17b1-201f-49dc-e4d2-f28f20d6c0ee"
   },
   "outputs": [
    {
     "name": "stdout",
     "output_type": "stream",
     "text": [
      "CPU times: user 49.5 s, sys: 2.37 s, total: 51.8 s\n",
      "Wall time: 2min 25s\n"
     ]
    }
   ],
   "source": [
    "%%time \n",
    "acc_mod=[]#Hacemos una lista de acuracys\n",
    "preds=[]#guardamos una lista de arrays de prediccionespor n-grama\n",
    "for i in range(1,10):\n",
    "  pred=modelo_ngram(i)\n",
    "  acc_mod.append(accuracy_score(df_test[\"category\"],pred)*100)\n",
    "  preds.append(pred)  "
   ]
  },
  {
   "cell_type": "code",
   "execution_count": 48,
   "metadata": {
    "colab": {
     "base_uri": "https://localhost:8080/",
     "height": 325
    },
    "colab_type": "code",
    "executionInfo": {
     "elapsed": 594123,
     "status": "ok",
     "timestamp": 1576611268458,
     "user": {
      "displayName": "raul abraham Nieto Pacheco",
      "photoUrl": "",
      "userId": "06171730266864656462"
     },
     "user_tz": 360
    },
    "id": "CQ9cCgOOZCXG",
    "outputId": "83e15c3f-9d30-4ac1-86f5-f420907c0544"
   },
   "outputs": [
    {
     "data": {
      "image/png": "[encoded data removed]",
      "text/plain": [
       "<Figure size 432x288 with 1 Axes>"
      ]
     },
     "metadata": {},
     "output_type": "display_data"
    }
   ],
   "source": [
    "plt.style.use(\"fivethirtyeight\")\n",
    "plt.plot(list(range(1,10)),acc_mod,color=\"g\")\n",
    "plt.xlabel(\"n-gramas\")\n",
    "plt.ylabel(\"%Accuracy\")\n",
    "plt.title(\"%Accuracy por el tamaño de n-gramas\")\n",
    "plt.show()"
   ]
  },
  {
   "cell_type": "markdown",
   "metadata": {
    "colab_type": "text",
    "id": "tA-tooWRDUAw"
   },
   "source": [
    "**Podemos observar que los modelos con sólo palabras, 2-gramas y 4-gramas tienen el mismo accuracy, por tanto podemos  comaparlos a detalle cada uno para seleccionar por otra métrica quizás cual nos conviene usar...**"
   ]
  },
  {
   "cell_type": "markdown",
   "metadata": {},
   "source": [
    "**Detalle métricas por n-grama observando n del 1 al 9**"
   ]
  },
  {
   "cell_type": "code",
   "execution_count": 49,
   "metadata": {},
   "outputs": [],
   "source": [
    "def val_n(ngram):\n",
    "    kpis(df_test[\"category\"],preds[ngram-1])"
   ]
  },
  {
   "cell_type": "code",
   "execution_count": 50,
   "metadata": {},
   "outputs": [
    {
     "name": "stdout",
     "output_type": "stream",
     "text": [
      "el % de clases bien clasificadas es: 78.125\n",
      "[[19  1  2]\n",
      " [ 1  3  0]\n",
      " [ 3  0  3]]\n"
     ]
    },
    {
     "data": {
      "image/png": "[encoded data removed]",
      "text/plain": [
       "<Figure size 432x288 with 2 Axes>"
      ]
     },
     "metadata": {},
     "output_type": "display_data"
    },
    {
     "name": "stdout",
     "output_type": "stream",
     "text": [
      "              precision    recall  f1-score   support\n",
      "\n",
      "   disminuye       0.75      0.75      0.75         4\n",
      "  incrementa       0.60      0.50      0.55         6\n",
      "    mantiene       0.83      0.86      0.84        22\n",
      "\n",
      "    accuracy                           0.78        32\n",
      "   macro avg       0.73      0.70      0.71        32\n",
      "weighted avg       0.77      0.78      0.78        32\n",
      "\n"
     ]
    },
    {
     "data": {
      "text/plain": [
       "<function __main__.val_n(ngram)>"
      ]
     },
     "execution_count": 50,
     "metadata": {},
     "output_type": "execute_result"
    }
   ],
   "source": [
    "interact(val_n,ngram=(1,9,1))"
   ]
  },
  {
   "cell_type": "markdown",
   "metadata": {
    "colab_type": "text",
    "id": "Bo6HgZCANzLF"
   },
   "source": [
    "# 14.-Conclusiones.\n",
    "**Revisamos a detalle los 3 modelos ganadores:**\n",
    "\n",
    "Hacemos el modelo $4-$grama y también el $2-$grama..."
   ]
  },
  {
   "cell_type": "code",
   "execution_count": 51,
   "metadata": {
    "colab": {
     "base_uri": "https://localhost:8080/",
     "height": 1000
    },
    "colab_type": "code",
    "executionInfo": {
     "elapsed": 694228,
     "status": "ok",
     "timestamp": 1576611368582,
     "user": {
      "displayName": "raul abraham Nieto Pacheco",
      "photoUrl": "",
      "userId": "06171730266864656462"
     },
     "user_tz": 360
    },
    "id": "pIO_HFFgss3X",
    "outputId": "d9969354-d030-4449-b86b-480b23ad02fd"
   },
   "outputs": [
    {
     "name": "stdout",
     "output_type": "stream",
     "text": [
      "---------Modelo 4-grama--------------------------------------------------------------------------------------------------------\n",
      "-------------------------------------------------------------------------------------------------------------------------------\n",
      "el % de clases bien clasificadas es: 81.25\n",
      "[[19  1  2]\n",
      " [ 1  3  0]\n",
      " [ 2  0  4]]\n"
     ]
    },
    {
     "data": {
      "image/png": "[encoded data removed]",
      "text/plain": [
       "<Figure size 432x288 with 2 Axes>"
      ]
     },
     "metadata": {},
     "output_type": "display_data"
    },
    {
     "name": "stdout",
     "output_type": "stream",
     "text": [
      "              precision    recall  f1-score   support\n",
      "\n",
      "   disminuye       0.75      0.75      0.75         4\n",
      "  incrementa       0.67      0.67      0.67         6\n",
      "    mantiene       0.86      0.86      0.86        22\n",
      "\n",
      "    accuracy                           0.81        32\n",
      "   macro avg       0.76      0.76      0.76        32\n",
      "weighted avg       0.81      0.81      0.81        32\n",
      "\n",
      "---------Modelo 2-grama----------------------------------------------------------------------------------------------------------\n",
      "-------------------------------------------------------------------------------------------------------------------------------\n",
      "el % de clases bien clasificadas es: 81.25\n",
      "[[21  1  0]\n",
      " [ 1  3  0]\n",
      " [ 4  0  2]]\n"
     ]
    },
    {
     "data": {
      "image/png": "[encoded data removed]",
      "text/plain": [
       "<Figure size 432x288 with 2 Axes>"
      ]
     },
     "metadata": {},
     "output_type": "display_data"
    },
    {
     "name": "stdout",
     "output_type": "stream",
     "text": [
      "              precision    recall  f1-score   support\n",
      "\n",
      "   disminuye       0.75      0.75      0.75         4\n",
      "  incrementa       1.00      0.33      0.50         6\n",
      "    mantiene       0.81      0.95      0.88        22\n",
      "\n",
      "    accuracy                           0.81        32\n",
      "   macro avg       0.85      0.68      0.71        32\n",
      "weighted avg       0.84      0.81      0.79        32\n",
      "\n",
      "---------Modelo sólo palabras----------------------------------------------------------------------------------------------------------\n",
      "-------------------------------------------------------------------------------------------------------------------------------\n",
      "el % de clases bien clasificadas es: 81.25\n",
      "[[20  1  1]\n",
      " [ 1  3  0]\n",
      " [ 3  0  3]]\n"
     ]
    },
    {
     "data": {
      "image/png": "[encoded data removed]",
      "text/plain": [
       "<Figure size 432x288 with 2 Axes>"
      ]
     },
     "metadata": {},
     "output_type": "display_data"
    },
    {
     "name": "stdout",
     "output_type": "stream",
     "text": [
      "              precision    recall  f1-score   support\n",
      "\n",
      "   disminuye       0.75      0.75      0.75         4\n",
      "  incrementa       0.75      0.50      0.60         6\n",
      "    mantiene       0.83      0.91      0.87        22\n",
      "\n",
      "    accuracy                           0.81        32\n",
      "   macro avg       0.78      0.72      0.74        32\n",
      "weighted avg       0.81      0.81      0.80        32\n",
      "\n"
     ]
    }
   ],
   "source": [
    "print(\"---------Modelo 4-grama--------------------------------------------------------------------------------------------------------\")\n",
    "print(\"-------------------------------------------------------------------------------------------------------------------------------\")\n",
    "\n",
    "kpis(df_test[\"category\"],preds[3])\n",
    "print(\"---------Modelo 2-grama----------------------------------------------------------------------------------------------------------\")\n",
    "print(\"-------------------------------------------------------------------------------------------------------------------------------\")\n",
    "\n",
    "kpis(df_test[\"category\"],preds[1])\n",
    "print(\"---------Modelo sólo palabras----------------------------------------------------------------------------------------------------------\")\n",
    "print(\"-------------------------------------------------------------------------------------------------------------------------------\")\n",
    "\n",
    "kpis(df_test[\"category\"],df_test[\"pred\"])"
   ]
  },
  {
   "cell_type": "markdown",
   "metadata": {
    "colab_type": "text",
    "id": "t4ILszkSGnR2"
   },
   "source": [
    "**Conclusión:**\n",
    "\n",
    "De acuerdo con las matrices de confusión podemos ver el recall de las clases mantiene y disminuye se ve mejor en el modelo 2-grama, pero el recall de la clase \"disminuye\" es el peor de los 3, el mejor en este último caso se da en el modelo 4-grama, donde también en general se tiene mejor f1-score por clase que no es otra cosa que un equilibrio entre recall y precision, pero el **mejor** promedio ponderado de f1-score de todas las clases es el del modelo 4-grama .81 vs. .79 del modelo 2-grama vs. .8 del modelo con sólo palabras... dado esto nos quedamos con el modelo 4-grama como el mejor."
   ]
  },
  {
   "cell_type": "code",
   "execution_count": 53,
   "metadata": {
    "colab": {},
    "colab_type": "code",
    "id": "8gaTHEybV8aC"
   },
   "outputs": [
    {
     "data": {
      "text/plain": [
       "'7.5.1'"
      ]
     },
     "execution_count": 53,
     "metadata": {},
     "output_type": "execute_result"
    }
   ],
   "source": [
    "import ipywidgets\n",
    "ipywidgets.__version__"
   ]
  },
  {
   "cell_type": "code",
   "execution_count": null,
   "metadata": {},
   "outputs": [],
   "source": []
  }
 ],
 "metadata": {
  "colab": {
   "collapsed_sections": [
    "Ms0tcQupHeyR",
    "U6EnB2h_kWjp",
    "_yUr-vyRuFrE",
    "KH04GM9skWj2",
    "WpgxJZH_kWkU",
    "TaUihbborwHi",
    "6Es1yUUfo0rE",
    "N71uuI2C2q3m",
    "sFE6h3tAkWlA",
    "McBKHz9nkWlH",
    "SdZoxH4MOv7e",
    "USb_24BpFaeq",
    "-67tGFnAQnAi",
    "7Qaoh4NeMyIQ",
    "Bo6HgZCANzLF"
   ],
   "name": "politica-monetaria-pt2-v2.ipynb",
   "provenance": []
  },
  "kernelspec": {
   "display_name": "Python 3",
   "language": "python",
   "name": "python3"
  },
  "language_info": {
   "codemirror_mode": {
    "name": "ipython",
    "version": 3
   },
   "file_extension": ".py",
   "mimetype": "text/x-python",
   "name": "python",
   "nbconvert_exporter": "python",
   "pygments_lexer": "ipython3",
   "version": "3.7.4"
  },
  "toc": {
   "colors": {
    "hover_highlight": "#DAA520",
    "navigate_num": "#000000",
    "navigate_text": "#333333",
    "running_highlight": "#FF0000",
    "selected_highlight": "#FFD700",
    "sidebar_border": "#EEEEEE",
    "wrapper_background": "#FFFFFF"
   },
   "moveMenuLeft": true,
   "nav_menu": {
    "height": "300px",
    "width": "252px"
   },
   "navigate_menu": true,
   "number_sections": true,
   "sideBar": true,
   "threshold": 4,
   "toc_cell": false,
   "toc_section_display": "block",
   "toc_window_display": false,
   "widenNotebook": false
  }
 },
 "nbformat": 4,
 "nbformat_minor": 4
}
